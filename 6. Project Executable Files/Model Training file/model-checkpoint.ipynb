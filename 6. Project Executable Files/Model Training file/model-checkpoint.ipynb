{
 "cells": [
  {
   "cell_type": "markdown",
   "id": "9b08442b-e799-4f72-9964-334264036118",
   "metadata": {},
   "source": [
    "# UNLOCKING SILENT SIGNALS: DECODING BODY LANGUAGE WITH MEDIAPIPE "
   ]
  },
  {
   "cell_type": "markdown",
   "id": "c7dd489f-ad44-4b35-a083-84d248e891fd",
   "metadata": {},
   "source": [
    "## Data Collection & Preparation"
   ]
  },
  {
   "cell_type": "markdown",
   "id": "f5da7068-4738-4315-8a41-6ea1466f3807",
   "metadata": {},
   "source": [
    "# Make Some Detections"
   ]
  },
  {
   "cell_type": "code",
   "execution_count": 1,
   "id": "4ec97bb5-7e58-4027-8212-96821d0c5df3",
   "metadata": {},
   "outputs": [
    {
     "name": "stdout",
     "output_type": "stream",
     "text": [
      "Requirement already satisfied: mediapipe in c:\\users\\lenovo\\anaconda3\\lib\\site-packages (0.10.14)\n",
      "Requirement already satisfied: absl-py in c:\\users\\lenovo\\anaconda3\\lib\\site-packages (from mediapipe) (2.1.0)\n",
      "Requirement already satisfied: attrs>=19.1.0 in c:\\users\\lenovo\\anaconda3\\lib\\site-packages (from mediapipe) (23.1.0)\n",
      "Requirement already satisfied: flatbuffers>=2.0 in c:\\users\\lenovo\\anaconda3\\lib\\site-packages (from mediapipe) (24.3.25)\n",
      "Requirement already satisfied: jax in c:\\users\\lenovo\\anaconda3\\lib\\site-packages (from mediapipe) (0.4.28)\n",
      "Requirement already satisfied: jaxlib in c:\\users\\lenovo\\anaconda3\\lib\\site-packages (from mediapipe) (0.4.28)\n",
      "Requirement already satisfied: matplotlib in c:\\users\\lenovo\\anaconda3\\lib\\site-packages (from mediapipe) (3.8.0)\n",
      "Requirement already satisfied: numpy in c:\\users\\lenovo\\anaconda3\\lib\\site-packages (from mediapipe) (1.26.4)\n",
      "Requirement already satisfied: opencv-contrib-python in c:\\users\\lenovo\\anaconda3\\lib\\site-packages (from mediapipe) (4.10.0.82)\n",
      "Requirement already satisfied: protobuf<5,>=4.25.3 in c:\\users\\lenovo\\anaconda3\\lib\\site-packages (from mediapipe) (4.25.3)\n",
      "Requirement already satisfied: sounddevice>=0.4.4 in c:\\users\\lenovo\\anaconda3\\lib\\site-packages (from mediapipe) (0.4.7)\n",
      "Requirement already satisfied: CFFI>=1.0 in c:\\users\\lenovo\\anaconda3\\lib\\site-packages (from sounddevice>=0.4.4->mediapipe) (1.16.0)\n",
      "Requirement already satisfied: ml-dtypes>=0.2.0 in c:\\users\\lenovo\\anaconda3\\lib\\site-packages (from jax->mediapipe) (0.3.2)\n",
      "Requirement already satisfied: opt-einsum in c:\\users\\lenovo\\anaconda3\\lib\\site-packages (from jax->mediapipe) (3.3.0)\n",
      "Requirement already satisfied: scipy>=1.9 in c:\\users\\lenovo\\anaconda3\\lib\\site-packages (from jax->mediapipe) (1.11.4)\n",
      "Requirement already satisfied: contourpy>=1.0.1 in c:\\users\\lenovo\\anaconda3\\lib\\site-packages (from matplotlib->mediapipe) (1.2.0)\n",
      "Requirement already satisfied: cycler>=0.10 in c:\\users\\lenovo\\anaconda3\\lib\\site-packages (from matplotlib->mediapipe) (0.11.0)\n",
      "Requirement already satisfied: fonttools>=4.22.0 in c:\\users\\lenovo\\anaconda3\\lib\\site-packages (from matplotlib->mediapipe) (4.25.0)\n",
      "Requirement already satisfied: kiwisolver>=1.0.1 in c:\\users\\lenovo\\anaconda3\\lib\\site-packages (from matplotlib->mediapipe) (1.4.4)\n",
      "Requirement already satisfied: packaging>=20.0 in c:\\users\\lenovo\\anaconda3\\lib\\site-packages (from matplotlib->mediapipe) (23.1)\n",
      "Requirement already satisfied: pillow>=6.2.0 in c:\\users\\lenovo\\anaconda3\\lib\\site-packages (from matplotlib->mediapipe) (10.2.0)\n",
      "Requirement already satisfied: pyparsing>=2.3.1 in c:\\users\\lenovo\\anaconda3\\lib\\site-packages (from matplotlib->mediapipe) (3.0.9)\n",
      "Requirement already satisfied: python-dateutil>=2.7 in c:\\users\\lenovo\\anaconda3\\lib\\site-packages (from matplotlib->mediapipe) (2.8.2)\n",
      "Requirement already satisfied: pycparser in c:\\users\\lenovo\\anaconda3\\lib\\site-packages (from CFFI>=1.0->sounddevice>=0.4.4->mediapipe) (2.21)\n",
      "Requirement already satisfied: six>=1.5 in c:\\users\\lenovo\\anaconda3\\lib\\site-packages (from python-dateutil>=2.7->matplotlib->mediapipe) (1.16.0)\n"
     ]
    }
   ],
   "source": [
    "!pip install mediapipe"
   ]
  },
  {
   "cell_type": "code",
   "execution_count": 2,
   "id": "bee3a157-7e0c-4a31-be73-e716e138a9db",
   "metadata": {},
   "outputs": [],
   "source": [
    "import cv2\n",
    "import mediapipe as mp"
   ]
  },
  {
   "cell_type": "code",
   "execution_count": 3,
   "id": "ef303241-3f18-4076-b6ea-b50fff26f2ae",
   "metadata": {},
   "outputs": [],
   "source": [
    "# Initialize MediaPipe holistic model and drawing utils\n",
    "mp_drawing = mp.solutions.drawing_utils\n",
    "mp_holistic = mp.solutions.holistic\n",
    "mp_face_mesh = mp.solutions.face_mesh\n",
    "mp_hands = mp.solutions.hands\n",
    "mp_pose = mp.solutions.pose"
   ]
  },
  {
   "cell_type": "code",
   "execution_count": 4,
   "id": "d26e21a7-3716-4630-9bfc-bc1a2e5db864",
   "metadata": {},
   "outputs": [],
   "source": [
    "def mediapipe_detection(image, model):\n",
    "    # Convert the BGR image to RGB\n",
    "    image = cv2.cvtColor(image, cv2.COLOR_BGR2RGB)\n",
    "    # Process the image and make detections\n",
    "    results = model.process(image)\n",
    "    # Convert the image back to BGR\n",
    "    image = cv2.cvtColor(image, cv2.COLOR_RGB2BGR)\n",
    "    return image, results"
   ]
  },
  {
   "cell_type": "code",
   "execution_count": 5,
   "id": "839ab8ea-d654-4af5-8e83-b71978f708c2",
   "metadata": {},
   "outputs": [],
   "source": [
    "def draw_landmarks(image, results):\n",
    "    if results.face_landmarks:\n",
    "        mp_drawing.draw_landmarks(image, results.face_landmarks, mp_holistic.FACEMESH_TESSELATION)\n",
    "    if results.pose_landmarks:\n",
    "        mp_drawing.draw_landmarks(image, results.pose_landmarks, mp_holistic.POSE_CONNECTIONS)\n",
    "    if results.left_hand_landmarks:\n",
    "        mp_drawing.draw_landmarks(image, results.left_hand_landmarks, mp_holistic.HAND_CONNECTIONS)\n",
    "    if results.right_hand_landmarks:\n",
    "        mp_drawing.draw_landmarks(image, results.right_hand_landmarks, mp_holistic.HAND_CONNECTIONS)"
   ]
  },
  {
   "cell_type": "code",
   "execution_count": 6,
   "id": "8aa33034-5234-4bed-bb8d-443f66c3ec9f",
   "metadata": {},
   "outputs": [],
   "source": [
    "def draw_styled_landmarks(image, results):\n",
    "    # Draw face connections\n",
    "    if results.face_landmarks:\n",
    "        mp_drawing.draw_landmarks(image, results.face_landmarks, mp_holistic.FACEMESH_CONTOURS, \n",
    "                                  mp_drawing.DrawingSpec(color=(80,110,10), thickness=1, circle_radius=1), \n",
    "                                  mp_drawing.DrawingSpec(color=(80,256,121), thickness=1, circle_radius=1)) \n",
    "    # Draw pose connections\n",
    "    if results.pose_landmarks:\n",
    "        mp_drawing.draw_landmarks(image, results.pose_landmarks, mp_holistic.POSE_CONNECTIONS,\n",
    "                                  mp_drawing.DrawingSpec(color=(80,22,10), thickness=2, circle_radius=4), \n",
    "                                  mp_drawing.DrawingSpec(color=(80,44,121), thickness=2, circle_radius=2)) \n",
    "    # Draw left hand connections\n",
    "    if results.left_hand_landmarks:\n",
    "        mp_drawing.draw_landmarks(image, results.left_hand_landmarks, mp_holistic.HAND_CONNECTIONS, \n",
    "                                  mp_drawing.DrawingSpec(color=(121,22,76), thickness=2, circle_radius=4), \n",
    "                                  mp_drawing.DrawingSpec(color=(121,44,250), thickness=2, circle_radius=2)) \n",
    "    # Draw right hand connections  \n",
    "    if results.right_hand_landmarks:\n",
    "        mp_drawing.draw_landmarks(image, results.right_hand_landmarks, mp_holistic.HAND_CONNECTIONS, \n",
    "                                  mp_drawing.DrawingSpec(color=(245,117,66), thickness=2, circle_radius=4), \n",
    "                                  mp_drawing.DrawingSpec(color=(245,66,230), thickness=2, circle_radius=2)) \n"
   ]
  },
  {
   "cell_type": "code",
   "execution_count": 7,
   "id": "122783c0-3b74-4baa-8056-5d89f4bb03bb",
   "metadata": {},
   "outputs": [
    {
     "name": "stderr",
     "output_type": "stream",
     "text": [
      "C:\\Users\\lenovo\\anaconda3\\Lib\\site-packages\\google\\protobuf\\symbol_database.py:55: UserWarning: SymbolDatabase.GetPrototype() is deprecated. Please use message_factory.GetMessageClass() instead. SymbolDatabase.GetPrototype() will be removed soon.\n",
      "  warnings.warn('SymbolDatabase.GetPrototype() is deprecated. Please '\n"
     ]
    },
    {
     "name": "stdout",
     "output_type": "stream",
     "text": [
      "<class 'mediapipe.python.solution_base.SolutionOutputs'>\n",
      "<class 'mediapipe.python.solution_base.SolutionOutputs'>\n",
      "<class 'mediapipe.python.solution_base.SolutionOutputs'>\n",
      "<class 'mediapipe.python.solution_base.SolutionOutputs'>\n",
      "<class 'mediapipe.python.solution_base.SolutionOutputs'>\n",
      "<class 'mediapipe.python.solution_base.SolutionOutputs'>\n",
      "<class 'mediapipe.python.solution_base.SolutionOutputs'>\n",
      "<class 'mediapipe.python.solution_base.SolutionOutputs'>\n",
      "<class 'mediapipe.python.solution_base.SolutionOutputs'>\n",
      "<class 'mediapipe.python.solution_base.SolutionOutputs'>\n",
      "<class 'mediapipe.python.solution_base.SolutionOutputs'>\n",
      "<class 'mediapipe.python.solution_base.SolutionOutputs'>\n",
      "<class 'mediapipe.python.solution_base.SolutionOutputs'>\n",
      "<class 'mediapipe.python.solution_base.SolutionOutputs'>\n",
      "<class 'mediapipe.python.solution_base.SolutionOutputs'>\n",
      "<class 'mediapipe.python.solution_base.SolutionOutputs'>\n",
      "<class 'mediapipe.python.solution_base.SolutionOutputs'>\n",
      "<class 'mediapipe.python.solution_base.SolutionOutputs'>\n",
      "<class 'mediapipe.python.solution_base.SolutionOutputs'>\n",
      "<class 'mediapipe.python.solution_base.SolutionOutputs'>\n",
      "<class 'mediapipe.python.solution_base.SolutionOutputs'>\n",
      "<class 'mediapipe.python.solution_base.SolutionOutputs'>\n",
      "<class 'mediapipe.python.solution_base.SolutionOutputs'>\n",
      "<class 'mediapipe.python.solution_base.SolutionOutputs'>\n",
      "<class 'mediapipe.python.solution_base.SolutionOutputs'>\n",
      "<class 'mediapipe.python.solution_base.SolutionOutputs'>\n",
      "<class 'mediapipe.python.solution_base.SolutionOutputs'>\n",
      "<class 'mediapipe.python.solution_base.SolutionOutputs'>\n",
      "<class 'mediapipe.python.solution_base.SolutionOutputs'>\n",
      "<class 'mediapipe.python.solution_base.SolutionOutputs'>\n",
      "<class 'mediapipe.python.solution_base.SolutionOutputs'>\n",
      "<class 'mediapipe.python.solution_base.SolutionOutputs'>\n",
      "<class 'mediapipe.python.solution_base.SolutionOutputs'>\n",
      "<class 'mediapipe.python.solution_base.SolutionOutputs'>\n",
      "<class 'mediapipe.python.solution_base.SolutionOutputs'>\n",
      "<class 'mediapipe.python.solution_base.SolutionOutputs'>\n",
      "<class 'mediapipe.python.solution_base.SolutionOutputs'>\n",
      "<class 'mediapipe.python.solution_base.SolutionOutputs'>\n",
      "<class 'mediapipe.python.solution_base.SolutionOutputs'>\n",
      "<class 'mediapipe.python.solution_base.SolutionOutputs'>\n",
      "<class 'mediapipe.python.solution_base.SolutionOutputs'>\n",
      "<class 'mediapipe.python.solution_base.SolutionOutputs'>\n",
      "<class 'mediapipe.python.solution_base.SolutionOutputs'>\n",
      "<class 'mediapipe.python.solution_base.SolutionOutputs'>\n",
      "<class 'mediapipe.python.solution_base.SolutionOutputs'>\n",
      "<class 'mediapipe.python.solution_base.SolutionOutputs'>\n",
      "<class 'mediapipe.python.solution_base.SolutionOutputs'>\n",
      "<class 'mediapipe.python.solution_base.SolutionOutputs'>\n",
      "<class 'mediapipe.python.solution_base.SolutionOutputs'>\n",
      "<class 'mediapipe.python.solution_base.SolutionOutputs'>\n",
      "<class 'mediapipe.python.solution_base.SolutionOutputs'>\n",
      "<class 'mediapipe.python.solution_base.SolutionOutputs'>\n",
      "<class 'mediapipe.python.solution_base.SolutionOutputs'>\n",
      "<class 'mediapipe.python.solution_base.SolutionOutputs'>\n",
      "<class 'mediapipe.python.solution_base.SolutionOutputs'>\n",
      "<class 'mediapipe.python.solution_base.SolutionOutputs'>\n",
      "<class 'mediapipe.python.solution_base.SolutionOutputs'>\n",
      "<class 'mediapipe.python.solution_base.SolutionOutputs'>\n",
      "<class 'mediapipe.python.solution_base.SolutionOutputs'>\n",
      "<class 'mediapipe.python.solution_base.SolutionOutputs'>\n",
      "<class 'mediapipe.python.solution_base.SolutionOutputs'>\n",
      "<class 'mediapipe.python.solution_base.SolutionOutputs'>\n",
      "<class 'mediapipe.python.solution_base.SolutionOutputs'>\n",
      "<class 'mediapipe.python.solution_base.SolutionOutputs'>\n",
      "<class 'mediapipe.python.solution_base.SolutionOutputs'>\n",
      "<class 'mediapipe.python.solution_base.SolutionOutputs'>\n",
      "<class 'mediapipe.python.solution_base.SolutionOutputs'>\n",
      "<class 'mediapipe.python.solution_base.SolutionOutputs'>\n",
      "<class 'mediapipe.python.solution_base.SolutionOutputs'>\n",
      "<class 'mediapipe.python.solution_base.SolutionOutputs'>\n",
      "<class 'mediapipe.python.solution_base.SolutionOutputs'>\n",
      "<class 'mediapipe.python.solution_base.SolutionOutputs'>\n",
      "<class 'mediapipe.python.solution_base.SolutionOutputs'>\n",
      "<class 'mediapipe.python.solution_base.SolutionOutputs'>\n",
      "<class 'mediapipe.python.solution_base.SolutionOutputs'>\n",
      "<class 'mediapipe.python.solution_base.SolutionOutputs'>\n",
      "<class 'mediapipe.python.solution_base.SolutionOutputs'>\n",
      "<class 'mediapipe.python.solution_base.SolutionOutputs'>\n",
      "<class 'mediapipe.python.solution_base.SolutionOutputs'>\n",
      "<class 'mediapipe.python.solution_base.SolutionOutputs'>\n",
      "<class 'mediapipe.python.solution_base.SolutionOutputs'>\n",
      "<class 'mediapipe.python.solution_base.SolutionOutputs'>\n",
      "<class 'mediapipe.python.solution_base.SolutionOutputs'>\n",
      "<class 'mediapipe.python.solution_base.SolutionOutputs'>\n",
      "<class 'mediapipe.python.solution_base.SolutionOutputs'>\n",
      "<class 'mediapipe.python.solution_base.SolutionOutputs'>\n",
      "<class 'mediapipe.python.solution_base.SolutionOutputs'>\n",
      "<class 'mediapipe.python.solution_base.SolutionOutputs'>\n",
      "<class 'mediapipe.python.solution_base.SolutionOutputs'>\n",
      "<class 'mediapipe.python.solution_base.SolutionOutputs'>\n",
      "<class 'mediapipe.python.solution_base.SolutionOutputs'>\n",
      "<class 'mediapipe.python.solution_base.SolutionOutputs'>\n",
      "<class 'mediapipe.python.solution_base.SolutionOutputs'>\n",
      "<class 'mediapipe.python.solution_base.SolutionOutputs'>\n",
      "<class 'mediapipe.python.solution_base.SolutionOutputs'>\n",
      "<class 'mediapipe.python.solution_base.SolutionOutputs'>\n",
      "<class 'mediapipe.python.solution_base.SolutionOutputs'>\n",
      "<class 'mediapipe.python.solution_base.SolutionOutputs'>\n",
      "<class 'mediapipe.python.solution_base.SolutionOutputs'>\n",
      "<class 'mediapipe.python.solution_base.SolutionOutputs'>\n",
      "<class 'mediapipe.python.solution_base.SolutionOutputs'>\n",
      "<class 'mediapipe.python.solution_base.SolutionOutputs'>\n",
      "<class 'mediapipe.python.solution_base.SolutionOutputs'>\n",
      "<class 'mediapipe.python.solution_base.SolutionOutputs'>\n",
      "<class 'mediapipe.python.solution_base.SolutionOutputs'>\n",
      "<class 'mediapipe.python.solution_base.SolutionOutputs'>\n",
      "<class 'mediapipe.python.solution_base.SolutionOutputs'>\n",
      "<class 'mediapipe.python.solution_base.SolutionOutputs'>\n",
      "<class 'mediapipe.python.solution_base.SolutionOutputs'>\n",
      "<class 'mediapipe.python.solution_base.SolutionOutputs'>\n",
      "<class 'mediapipe.python.solution_base.SolutionOutputs'>\n",
      "<class 'mediapipe.python.solution_base.SolutionOutputs'>\n",
      "<class 'mediapipe.python.solution_base.SolutionOutputs'>\n",
      "<class 'mediapipe.python.solution_base.SolutionOutputs'>\n",
      "<class 'mediapipe.python.solution_base.SolutionOutputs'>\n",
      "<class 'mediapipe.python.solution_base.SolutionOutputs'>\n",
      "<class 'mediapipe.python.solution_base.SolutionOutputs'>\n",
      "<class 'mediapipe.python.solution_base.SolutionOutputs'>\n",
      "<class 'mediapipe.python.solution_base.SolutionOutputs'>\n",
      "<class 'mediapipe.python.solution_base.SolutionOutputs'>\n",
      "<class 'mediapipe.python.solution_base.SolutionOutputs'>\n",
      "<class 'mediapipe.python.solution_base.SolutionOutputs'>\n",
      "<class 'mediapipe.python.solution_base.SolutionOutputs'>\n",
      "<class 'mediapipe.python.solution_base.SolutionOutputs'>\n",
      "<class 'mediapipe.python.solution_base.SolutionOutputs'>\n",
      "<class 'mediapipe.python.solution_base.SolutionOutputs'>\n",
      "<class 'mediapipe.python.solution_base.SolutionOutputs'>\n",
      "<class 'mediapipe.python.solution_base.SolutionOutputs'>\n",
      "<class 'mediapipe.python.solution_base.SolutionOutputs'>\n",
      "<class 'mediapipe.python.solution_base.SolutionOutputs'>\n",
      "<class 'mediapipe.python.solution_base.SolutionOutputs'>\n",
      "<class 'mediapipe.python.solution_base.SolutionOutputs'>\n",
      "<class 'mediapipe.python.solution_base.SolutionOutputs'>\n",
      "<class 'mediapipe.python.solution_base.SolutionOutputs'>\n"
     ]
    }
   ],
   "source": [
    "# Start capturing video from webcam\n",
    "cap = cv2.VideoCapture(0)\n",
    "\n",
    "# Set mediapipe model \n",
    "with mp_holistic.Holistic(min_detection_confidence=0.5, min_tracking_confidence=0.5) as holistic:\n",
    "    while cap.isOpened():\n",
    "        # Read feed\n",
    "        ret, frame = cap.read()\n",
    "\n",
    "        # Make detections\n",
    "        image, results = mediapipe_detection(frame, holistic)\n",
    "        print(results)\n",
    "        \n",
    "        # Draw landmarks\n",
    "        draw_styled_landmarks(image, results)\n",
    "\n",
    "        # Show to screen\n",
    "        cv2.imshow('OpenCV Feed', image)\n",
    "\n",
    "        # Break gracefully\n",
    "        if cv2.waitKey(10) & 0xFF == ord('q'):\n",
    "            break\n",
    "            \n",
    "    cap.release()\n",
    "    cv2.destroyAllWindows"
   ]
  },
  {
   "cell_type": "code",
   "execution_count": 8,
   "id": "90499e83-611a-48f0-84f3-bcca20181925",
   "metadata": {},
   "outputs": [
    {
     "data": {
      "text/plain": [
       "mediapipe.python.solution_base.SolutionOutputs"
      ]
     },
     "execution_count": 8,
     "metadata": {},
     "output_type": "execute_result"
    }
   ],
   "source": [
    "results"
   ]
  },
  {
   "cell_type": "code",
   "execution_count": 9,
   "id": "f4804fac-39f9-4be9-ae52-ed4f1a738128",
   "metadata": {},
   "outputs": [],
   "source": [
    "# Function to extract keypoints\n",
    "def extract_keypoints(results):\n",
    "    if results is None:\n",
    "        return np.zeros(10)  # Ensure the length matches what the model expects\n",
    "\n",
    "    pose = np.array([results.pose_landmarks.landmark[0].x, results.pose_landmarks.landmark[0].y]) if results.pose_landmarks else np.zeros(2)\n",
    "    face = np.array([results.face_landmarks.landmark[0].x, results.face_landmarks.landmark[0].y]) if results.face_landmarks else np.zeros(2)\n",
    "    lh = np.array([results.left_hand_landmarks.landmark[0].x, results.left_hand_landmarks.landmark[0].y]) if results.left_hand_landmarks else np.zeros(2)\n",
    "    rh = np.array([results.right_hand_landmarks.landmark[0].x, results.right_hand_landmarks.landmark[0].y]) if results.right_hand_landmarks else np.zeros(2)\n",
    "    \n",
    "    # Concatenate these into a single feature vector\n",
    "    keypoints = np.concatenate([pose, face, lh, rh])\n",
    "    \n",
    "    # If the resulting keypoints vector is shorter than expected, pad with zeros\n",
    "    if len(keypoints) < 10:\n",
    "        keypoints = np.concatenate([keypoints, np.zeros(10 - len(keypoints))])\n",
    "        \n",
    "    return keypoints\n"
   ]
  },
  {
   "cell_type": "code",
   "execution_count": 10,
   "id": "9f484f84-24c6-42de-b431-90201d3b8e3c",
   "metadata": {},
   "outputs": [
    {
     "data": {
      "text/plain": [
       "array([0.52002746, 0.59102154, 0.51200646, 0.65211827, 0.        ,\n",
       "       0.        , 0.        , 0.        , 0.        , 0.        ])"
      ]
     },
     "execution_count": 10,
     "metadata": {},
     "output_type": "execute_result"
    }
   ],
   "source": [
    "import numpy as np\n",
    "# Example usage:\n",
    "result_test = extract_keypoints(results)\n",
    "result_test"
   ]
  },
  {
   "cell_type": "markdown",
   "id": "6363d653-9f7f-437c-959f-73efc0c38f51",
   "metadata": {},
   "source": [
    "# Collecting Data For Happy Mood, Sad Mood, Victorious Mood, Fight Mood"
   ]
  },
  {
   "cell_type": "code",
   "execution_count": 11,
   "id": "2f15cacf-3351-4e13-a0e4-1661f8aed18c",
   "metadata": {},
   "outputs": [],
   "source": [
    "import os\n",
    "import numpy as np\n",
    "\n",
    "# Path for exported data, numpy arrays\n",
    "DATA_PATH = os.path.join('MP_Data') \n",
    "\n",
    "# Actions that we try to detect\n",
    "actions = np.array(['happy', 'sad', 'victorious', 'fight'])\n",
    "\n",
    "# Thirty videos worth of data\n",
    "no_sequences = 30\n",
    "\n",
    "# Length of each sequence\n",
    "sequence_length = 30  # Adjust this value based on your requirements\n"
   ]
  },
  {
   "cell_type": "code",
   "execution_count": 12,
   "id": "f3696520-65ef-4182-b1c8-36a68e0f5420",
   "metadata": {},
   "outputs": [],
   "source": [
    "for action in actions: \n",
    "    for sequence in range(no_sequences):\n",
    "        try: \n",
    "            os.makedirs(os.path.join(DATA_PATH, action, str(sequence)))\n",
    "        except:\n",
    "            pass"
   ]
  },
  {
   "cell_type": "markdown",
   "id": "5e6943be-f6c2-48a0-9ba4-765b025a5c57",
   "metadata": {},
   "source": [
    "cap = cv2.VideoCapture(0)\n",
    "\n",
    "# Set mediapipe model \n",
    "with mp_holistic.Holistic(min_detection_confidence=0.5, min_tracking_confidence=0.5) as holistic:\n",
    "   \n",
    "    # NEW LOOP\n",
    "    # Loop through actions\n",
    "    for action in actions:\n",
    "        # Loop through sequences aka videos\n",
    "        for sequence in range(no_sequences):\n",
    "            # Loop through video length aka sequence length\n",
    "            for frame_num in range(sequence_length):\n",
    "                \n",
    "                # Read feed\n",
    "                ret, frame = cap.read()\n",
    "                # Make detections\n",
    "                \n",
    "                image, results = mediapipe_detection(frame, holistic)\n",
    "                # print(results)\n",
    "                \n",
    "                # Draw landmarks\n",
    "                draw_styled_landmarks(image, results)\n",
    "                # NEW Apply wait logic\n",
    "                \n",
    "                if frame_num == 0: \n",
    "                    cv2.putText(image, 'STARTING COLLECTION', (120,200), \n",
    "                               cv2.FONT_HERSHEY_SIMPLEX, 1, (0,255, 0), 4, cv2.LINE_AA)\n",
    "                    cv2.putText(image, 'Collecting frames for {} Video Number {}'.format(action, sequence), (15,12), \n",
    "                               cv2.FONT_HERSHEY_SIMPLEX, 0.5, (0, 0, 255), 1, cv2.LINE_AA)\n",
    "                    # Show to screen\n",
    "                    cv2.imshow('OpenCV Feed', image)\n",
    "                    cv2.waitKey(2000)\n",
    "                else: \n",
    "                    cv2.putText(image, 'Collecting frames for {} Video Number {}'.format(action, sequence), (15,12), \n",
    "                               cv2.FONT_HERSHEY_SIMPLEX, 0.5, (0, 0, 255), 1, cv2.LINE_AA)\n",
    "                    \n",
    "                    # Show to screen\n",
    "                    cv2.imshow('OpenCV Feed', image)\n",
    "                    \n",
    "                # NEW Export keypoints\n",
    "                keypoints = extract_keypoints(results) \n",
    "                \n",
    "                # Print the structure of keypoints\n",
    "                print(f\"Frame {frame_num}: Keypoints type: {type(keypoints)}, Keypoints: {keypoints}\")    \n",
    "                \n",
    "                # Ensure keypoints is a numpy array with a consistent shape\n",
    "                keypoints = np.array(keypoints, dtype=object)\n",
    "                npy_path = os.path.join(DATA_PATH, action, str(sequence), str(frame_num))\n",
    "                np.save(npy_path, keypoints)\n",
    "                \n",
    "                # Break gracefully\n",
    "                if cv2.waitKey(10) & 0xFF == ord('q'):\n",
    "                    break   \n",
    "                    \n",
    "    cap.release()\n",
    "    cv2.destroyAllWindows()\n"
   ]
  },
  {
   "cell_type": "code",
   "execution_count": 13,
   "id": "122d685b-d5ea-47c1-8f92-5345aa244210",
   "metadata": {},
   "outputs": [],
   "source": [
    "import os\n",
    "import numpy as np\n",
    "import pandas as pd\n",
    "\n",
    "# Path to the directory containing the .npy files\n",
    "DATA_PATH = 'C:/Users/lenovo/Desktop/Body_Language_Decoder/dataset/MP_Data'\n",
    "\n",
    "# Initialize an empty list to store the data\n",
    "data_list = []\n",
    "\n",
    "# Iterate over all actions\n",
    "actions = ['happy', 'sad', 'victorious', 'fight']\n",
    "for action in actions:\n",
    "    action_path = os.path.join(DATA_PATH, action)\n",
    "    for sequence in os.listdir(action_path):\n",
    "        sequence_path = os.path.join(action_path, sequence)\n",
    "        for file in os.listdir(sequence_path):\n",
    "            if file.endswith('.npy'):\n",
    "                file_path = os.path.join(sequence_path, file)\n",
    "                # Load the .npy file with allow_pickle=True\n",
    "                data = np.load(file_path, allow_pickle=True)\n",
    "                # Add the data to the list\n",
    "                data_list.append((action, sequence, data))\n",
    "                \n",
    "# Convert the list of data into a DataFrame\n",
    "df = pd.DataFrame(data_list, columns=['Action', 'Sequence', 'Data'])\n",
    "\n",
    "# Save the DataFrame to a CSV file for future use\n",
    "df.to_csv('body_language_data.csv', index=False)\n",
    "\n"
   ]
  },
  {
   "cell_type": "markdown",
   "id": "e49788f0-9b68-4221-b9fb-9145c3e1e6ff",
   "metadata": {},
   "source": [
    "# Read The Collected Data"
   ]
  },
  {
   "cell_type": "code",
   "execution_count": 14,
   "id": "159818f8-f345-4b4a-869a-8ce7cea3fdae",
   "metadata": {},
   "outputs": [],
   "source": [
    "import pandas as pd\n",
    "from sklearn.model_selection import train_test_split\n"
   ]
  },
  {
   "cell_type": "code",
   "execution_count": 15,
   "id": "94a2b2db-9efd-46fa-bd0e-7c20cb3660f1",
   "metadata": {},
   "outputs": [],
   "source": [
    "df = pd.read_csv(\"C:/Users/lenovo/Desktop/Body_Language_Decoder/dataset/body_language_data.csv\")\n"
   ]
  },
  {
   "cell_type": "code",
   "execution_count": 16,
   "id": "8a3ab779-62d8-4f14-a4b7-31986b179331",
   "metadata": {},
   "outputs": [
    {
     "name": "stdout",
     "output_type": "stream",
     "text": [
      "Index(['Action', 'Sequence', 'Data'], dtype='object')\n"
     ]
    }
   ],
   "source": [
    "# Print the column names to verify the exact names\n",
    "print(df.columns)\n",
    "\n"
   ]
  },
  {
   "cell_type": "code",
   "execution_count": 17,
   "id": "b7c5b757-c2a9-4ef5-9c98-4c0de8de0b0c",
   "metadata": {},
   "outputs": [
    {
     "name": "stdout",
     "output_type": "stream",
     "text": [
      "  Action  Sequence                                               Data\n",
      "0  happy         0  [0.6459652781486511 0.6242932081222534 -0.7729...\n",
      "1  happy         0  [0.6458597779273987 0.6174453496932983 -1.0967...\n",
      "2  happy         0  [0.7056352496147156 0.5952770709991455 -0.9480...\n",
      "3  happy         0  [0.7088898420333862 0.5936240553855896 -0.7997...\n",
      "4  happy         0  [0.7049288749694824 0.5914623141288757 -0.8366...\n"
     ]
    }
   ],
   "source": [
    "# Print the first few rows to inspect the data\n",
    "print(df.head())\n"
   ]
  },
  {
   "cell_type": "code",
   "execution_count": 18,
   "id": "78f2d646-0d53-4bb3-be26-762305589c5c",
   "metadata": {},
   "outputs": [
    {
     "name": "stdout",
     "output_type": "stream",
     "text": [
      "     Action  Sequence                                               Data\n",
      "3595  fight         9  [0.5473002791404724 0.5686383843421936 -1.1267...\n",
      "3596  fight         9  [0.5473073720932007 0.5688202381134033 -1.0974...\n",
      "3597  fight         9  [0.5473515391349792 0.5685892701148987 -1.0628...\n",
      "3598  fight         9  [0.5468725562095642 0.5674688220024109 -1.0749...\n",
      "3599  fight         9  [0.5467849373817444 0.5675255656242371 -1.1238...\n"
     ]
    }
   ],
   "source": [
    "# Print the last few rows to inspect the data\n",
    "print(df.tail())\n"
   ]
  },
  {
   "cell_type": "code",
   "execution_count": 19,
   "id": "998c62e8-c370-4036-8554-de5ed18e3781",
   "metadata": {},
   "outputs": [
    {
     "name": "stdout",
     "output_type": "stream",
     "text": [
      "<class 'pandas.core.frame.DataFrame'>\n",
      "RangeIndex: 3600 entries, 0 to 3599\n",
      "Data columns (total 3 columns):\n",
      " #   Column    Non-Null Count  Dtype \n",
      "---  ------    --------------  ----- \n",
      " 0   Action    3600 non-null   object\n",
      " 1   Sequence  3600 non-null   int64 \n",
      " 2   Data      3600 non-null   object\n",
      "dtypes: int64(1), object(2)\n",
      "memory usage: 84.5+ KB\n",
      "None\n"
     ]
    }
   ],
   "source": [
    "print(df.info())"
   ]
  },
  {
   "cell_type": "code",
   "execution_count": 20,
   "id": "87a855c8-8c7b-4504-90fa-b78031b4747e",
   "metadata": {},
   "outputs": [
    {
     "name": "stdout",
     "output_type": "stream",
     "text": [
      "Action      0\n",
      "Sequence    0\n",
      "Data        0\n",
      "dtype: int64\n"
     ]
    }
   ],
   "source": [
    "# Handling Missing Values\n",
    "print(df.isnull().sum())"
   ]
  },
  {
   "cell_type": "markdown",
   "id": "254a7fb6-d9fa-4848-a57a-e28a0b3cee98",
   "metadata": {},
   "source": [
    "# Data Preparation"
   ]
  },
  {
   "cell_type": "code",
   "execution_count": 21,
   "id": "3c9791f2-3b89-41ae-9e0e-7649d7519d5e",
   "metadata": {},
   "outputs": [],
   "source": [
    "x = df.drop('Action', axis=1)\n",
    "y = df['Action']"
   ]
  },
  {
   "cell_type": "markdown",
   "id": "fafe1047-81ae-42c4-9c5c-6914c545a7e2",
   "metadata": {},
   "source": [
    "## Exploratory Data Analysis"
   ]
  },
  {
   "cell_type": "markdown",
   "id": "f5a9169a-1d64-4aca-9872-835921d508a1",
   "metadata": {},
   "source": [
    "# Descriptive Statistical"
   ]
  },
  {
   "cell_type": "code",
   "execution_count": 22,
   "id": "85a23378-9523-4f9e-a35b-683358f04287",
   "metadata": {},
   "outputs": [
    {
     "data": {
      "text/html": [
       "<div>\n",
       "<style scoped>\n",
       "    .dataframe tbody tr th:only-of-type {\n",
       "        vertical-align: middle;\n",
       "    }\n",
       "\n",
       "    .dataframe tbody tr th {\n",
       "        vertical-align: top;\n",
       "    }\n",
       "\n",
       "    .dataframe thead th {\n",
       "        text-align: right;\n",
       "    }\n",
       "</style>\n",
       "<table border=\"1\" class=\"dataframe\">\n",
       "  <thead>\n",
       "    <tr style=\"text-align: right;\">\n",
       "      <th></th>\n",
       "      <th>Sequence</th>\n",
       "    </tr>\n",
       "  </thead>\n",
       "  <tbody>\n",
       "    <tr>\n",
       "      <th>count</th>\n",
       "      <td>3600.000000</td>\n",
       "    </tr>\n",
       "    <tr>\n",
       "      <th>mean</th>\n",
       "      <td>14.500000</td>\n",
       "    </tr>\n",
       "    <tr>\n",
       "      <th>std</th>\n",
       "      <td>8.656644</td>\n",
       "    </tr>\n",
       "    <tr>\n",
       "      <th>min</th>\n",
       "      <td>0.000000</td>\n",
       "    </tr>\n",
       "    <tr>\n",
       "      <th>25%</th>\n",
       "      <td>7.000000</td>\n",
       "    </tr>\n",
       "    <tr>\n",
       "      <th>50%</th>\n",
       "      <td>14.500000</td>\n",
       "    </tr>\n",
       "    <tr>\n",
       "      <th>75%</th>\n",
       "      <td>22.000000</td>\n",
       "    </tr>\n",
       "    <tr>\n",
       "      <th>max</th>\n",
       "      <td>29.000000</td>\n",
       "    </tr>\n",
       "  </tbody>\n",
       "</table>\n",
       "</div>"
      ],
      "text/plain": [
       "          Sequence\n",
       "count  3600.000000\n",
       "mean     14.500000\n",
       "std       8.656644\n",
       "min       0.000000\n",
       "25%       7.000000\n",
       "50%      14.500000\n",
       "75%      22.000000\n",
       "max      29.000000"
      ]
     },
     "execution_count": 22,
     "metadata": {},
     "output_type": "execute_result"
    }
   ],
   "source": [
    "df.describe()"
   ]
  },
  {
   "cell_type": "markdown",
   "id": "b40bd1d5-9567-4a94-8f5b-8f340a5f2d52",
   "metadata": {},
   "source": [
    "# Visual Analysis"
   ]
  },
  {
   "cell_type": "code",
   "execution_count": 23,
   "id": "a0d1bd0c-5fb4-4c8f-8ab5-6f1df5e44317",
   "metadata": {},
   "outputs": [
    {
     "data": {
      "text/plain": [
       "<Axes: xlabel='Action'>"
      ]
     },
     "execution_count": 23,
     "metadata": {},
     "output_type": "execute_result"
    },
    {
     "data": {
      "image/png": "[encoded data removed]",
      "text/plain": [
       "<Figure size 640x480 with 1 Axes>"
      ]
     },
     "metadata": {},
     "output_type": "display_data"
    }
   ],
   "source": [
    "y.value_counts().plot(kind='bar')"
   ]
  },
  {
   "cell_type": "code",
   "execution_count": 24,
   "id": "9d3153b3-210c-4fff-a1d3-3eb4be2dc603",
   "metadata": {},
   "outputs": [
    {
     "data": {
      "image/png": "[encoded data removed]",
      "text/plain": [
       "<Figure size 400x400 with 1 Axes>"
      ]
     },
     "metadata": {},
     "output_type": "display_data"
    }
   ],
   "source": [
    "import matplotlib.pyplot as plt\n",
    "# Count the occurrences of each class in the target variable\n",
    "value_counts = y.value_counts()\n",
    "\n",
    "# Plot the pie chart\n",
    "value_counts.plot(kind='pie', autopct='%1.1f%%', startangle=90, figsize=(4, 4))\n",
    "\n",
    "# Set the aspect ratio to be equal so the pie is drawn as a circle\n",
    "plt.axis('equal')\n",
    "\n",
    "# Add a title\n",
    "plt.title('Distribution of Target Classes')\n",
    "\n",
    "# Show the plot\n",
    "plt.show()"
   ]
  },
  {
   "cell_type": "markdown",
   "id": "b66bec82-1ae2-4488-a6b2-a05a5bc22f06",
   "metadata": {},
   "source": [
    "# Univariate Analysis"
   ]
  },
  {
   "cell_type": "code",
   "execution_count": 25,
   "id": "a70e4ec4-b915-4c1b-8491-cb0224a6b5d5",
   "metadata": {},
   "outputs": [
    {
     "name": "stderr",
     "output_type": "stream",
     "text": [
      "C:\\Users\\lenovo\\anaconda3\\Lib\\site-packages\\seaborn\\_oldcore.py:1119: FutureWarning: use_inf_as_na option is deprecated and will be removed in a future version. Convert inf values to NaN before operating instead.\n",
      "  with pd.option_context('mode.use_inf_as_na', True):\n",
      "C:\\Users\\lenovo\\anaconda3\\Lib\\site-packages\\seaborn\\_oldcore.py:1119: FutureWarning: use_inf_as_na option is deprecated and will be removed in a future version. Convert inf values to NaN before operating instead.\n",
      "  with pd.option_context('mode.use_inf_as_na', True):\n"
     ]
    },
    {
     "data": {
      "image/png": "[encoded data removed]",
      "text/plain": [
       "<Figure size 800x400 with 2 Axes>"
      ]
     },
     "metadata": {},
     "output_type": "display_data"
    }
   ],
   "source": [
    "import matplotlib.pyplot as plt\n",
    "import seaborn as sns\n",
    "import pandas as pd\n",
    "\n",
    "# Assuming 'data' is your DataFrame containing 'Action' and 'Sequence' columns\n",
    "\n",
    "# Sample data creation (replace this with your actual DataFrame creation)\n",
    "data = pd.DataFrame({\n",
    "    'Action': [1, 2, 3, 4, 5],\n",
    "    'Sequence': [10, 20, 30, 40, 50]\n",
    "})\n",
    "\n",
    "# Convert 'Action' column to numeric if needed\n",
    "data['Action'] = pd.to_numeric(data['Action'], errors='coerce')\n",
    "\n",
    "# Convert 'Sequence' column to numeric if needed\n",
    "data['Sequence'] = pd.to_numeric(data['Sequence'], errors='coerce')\n",
    "\n",
    "# Univariate analysis using distplot (or histplot)\n",
    "plt.figure(figsize=(8, 4))\n",
    "\n",
    "plt.subplot(121)\n",
    "sns.histplot(data['Action'].dropna(), color='r', kde=True)  # Drop NaN values if any\n",
    "plt.title('Distribution of Action')\n",
    "\n",
    "plt.subplot(122)\n",
    "sns.histplot(data['Sequence'].dropna(), kde=True)\n",
    "plt.title('Distribution of Sequence')\n",
    "\n",
    "plt.tight_layout()  # Adjust layout to prevent overlap\n",
    "plt.show()"
   ]
  },
  {
   "cell_type": "markdown",
   "id": "40ee404b-14a6-464f-8a2c-0675813dd475",
   "metadata": {},
   "source": [
    "# Bi variate analysis"
   ]
  },
  {
   "cell_type": "code",
   "execution_count": 26,
   "id": "71ffc561-e6cc-4328-8b66-313b8d08059f",
   "metadata": {},
   "outputs": [
    {
     "data": {
      "image/png": "[encoded data removed]",
      "text/plain": [
       "<Figure size 300x300 with 1 Axes>"
      ]
     },
     "metadata": {},
     "output_type": "display_data"
    }
   ],
   "source": [
    "# Bivariate analysis using scatterplot\n",
    "plt.figure(figsize=(3, 3))\n",
    "\n",
    "sns.scatterplot(x='Action', y='Sequence', data=data)\n",
    "plt.title('Scatter Plot of Action vs Sequence')\n",
    "\n",
    "plt.show()\n"
   ]
  },
  {
   "cell_type": "markdown",
   "id": "9f31e5c5-3ce9-42fb-a821-a599a9205a13",
   "metadata": {},
   "source": [
    "# Multivariate analysis "
   ]
  },
  {
   "cell_type": "code",
   "execution_count": 27,
   "id": "09aa4e94-fce8-4f8b-9cb2-539a4f0bab75",
   "metadata": {},
   "outputs": [
    {
     "name": "stderr",
     "output_type": "stream",
     "text": [
      "C:\\Users\\lenovo\\anaconda3\\Lib\\site-packages\\seaborn\\_oldcore.py:1119: FutureWarning: use_inf_as_na option is deprecated and will be removed in a future version. Convert inf values to NaN before operating instead.\n",
      "  with pd.option_context('mode.use_inf_as_na', True):\n",
      "C:\\Users\\lenovo\\anaconda3\\Lib\\site-packages\\seaborn\\_oldcore.py:1119: FutureWarning: use_inf_as_na option is deprecated and will be removed in a future version. Convert inf values to NaN before operating instead.\n",
      "  with pd.option_context('mode.use_inf_as_na', True):\n"
     ]
    },
    {
     "data": {
      "image/png": "[encoded data removed]",
      "text/plain": [
       "<Figure size 500x500 with 6 Axes>"
      ]
     },
     "metadata": {},
     "output_type": "display_data"
    }
   ],
   "source": [
    "# Multivariate analysis using pairplot\n",
    "sns.pairplot(data.dropna(), diag_kind='hist')\n",
    "plt.suptitle('Pair Plot of Action and Sequence', y=1.02)\n",
    "plt.show()\n"
   ]
  },
  {
   "cell_type": "markdown",
   "id": "894180f6-c168-46c9-9b15-670c58008fc8",
   "metadata": {},
   "source": [
    "# Splitting Data Into Train And Test And Validation Sets"
   ]
  },
  {
   "cell_type": "code",
   "execution_count": 28,
   "id": "2c1f20df-89d4-41d6-8374-5cec1a8cd5e3",
   "metadata": {},
   "outputs": [],
   "source": [
    "from sklearn.model_selection import train_test_split\n",
    "\n",
    "# Now you can split your dataset\n",
    "x_train, x_test, y_train, y_test = train_test_split(x, y, test_size=0.4, random_state=1234)\n"
   ]
  },
  {
   "cell_type": "markdown",
   "id": "2646b9ef-33a1-45e3-891c-5ca8a5a5fd5a",
   "metadata": {},
   "source": [
    "## Model Building"
   ]
  },
  {
   "cell_type": "markdown",
   "id": "72102c0e-6f76-4ffc-91d9-e0d7c2e8d871",
   "metadata": {},
   "source": [
    "# Importing Necessary Libraries"
   ]
  },
  {
   "cell_type": "code",
   "execution_count": 29,
   "id": "371bb186-1339-4e26-8ad8-4092b9a09faf",
   "metadata": {},
   "outputs": [],
   "source": [
    "from sklearn.preprocessing import StandardScaler\n",
    "from sklearn.pipeline import make_pipeline\n",
    "from sklearn.linear_model import LogisticRegression , RidgeClassifier\n",
    "from sklearn.ensemble import RandomForestClassifier , GradientBoostingClassifier"
   ]
  },
  {
   "cell_type": "markdown",
   "id": "50f2294f-a143-4a9c-9153-ad65efdf8e39",
   "metadata": {},
   "source": [
    "# Designing A Pipeline To Train On Multiple Algorithms"
   ]
  },
  {
   "cell_type": "code",
   "execution_count": 30,
   "id": "8aa4bc28-8a34-435a-ae6a-a0f6cb0b4905",
   "metadata": {},
   "outputs": [],
   "source": [
    "pipelines = {\n",
    "    'lr':make_pipeline(StandardScaler() , LogisticRegression(max_iter=1000)),\n",
    "    'rc':make_pipeline(StandardScaler() , RidgeClassifier()),\n",
    "    'rf':make_pipeline(StandardScaler() , RandomForestClassifier()),\n",
    "    'gb':make_pipeline(StandardScaler() , GradientBoostingClassifier())\n",
    "}"
   ]
  },
  {
   "cell_type": "code",
   "execution_count": 31,
   "id": "8f16b6ae-5f7d-4d98-b4b9-8355414c0205",
   "metadata": {},
   "outputs": [
    {
     "name": "stdout",
     "output_type": "stream",
     "text": [
      "Action\n",
      "sad           565\n",
      "happy         538\n",
      "fight         533\n",
      "victorious    524\n",
      "Name: count, dtype: int64\n"
     ]
    }
   ],
   "source": [
    "# Check the class distribution in the training data\n",
    "print(y_train.value_counts())\n"
   ]
  },
  {
   "cell_type": "code",
   "execution_count": 32,
   "id": "3b5bc542-4984-4f30-9748-27a66d31f925",
   "metadata": {},
   "outputs": [
    {
     "name": "stdout",
     "output_type": "stream",
     "text": [
      "Class distribution before balancing:\n",
      "Action\n",
      "happy         900\n",
      "sad           900\n",
      "victorious    900\n",
      "fight         900\n",
      "Name: count, dtype: int64\n",
      "Shapes after augmentation:\n",
      "x_augmented shape: (0,)\n",
      "No augmentation performed or no new data generated.\n"
     ]
    }
   ],
   "source": [
    "import pandas as pd\n",
    "import numpy as np\n",
    "import imgaug.augmenters as iaa\n",
    "from collections import Counter\n",
    "\n",
    "# Load your CSV data\n",
    "data = pd.read_csv('C:/Users/lenovo/Desktop/Body_Language_Decoder/dataset/body_language_data.csv')\n",
    "\n",
    "# Separate features and labels\n",
    "x_train = data.drop(columns=['Action'])  # Assuming 'Action' is the label column\n",
    "y_train = data['Action']\n",
    "\n",
    "# Check the class distribution\n",
    "print(\"Class distribution before balancing:\")\n",
    "print(y_train.value_counts())\n",
    "\n",
    "# Create an augmentation sequence\n",
    "seq = iaa.Sequential([\n",
    "    iaa.Fliplr(0.5),  # horizontal flips\n",
    "    iaa.Affine(rotate=(-10, 10)),  # random rotations\n",
    "    # Add more augmentation techniques as needed\n",
    "])\n",
    "\n",
    "# Define target count per class (assuming balanced distribution)\n",
    "target_count = 900  # adjust this based on the largest class count\n",
    "\n",
    "x_augmented = []\n",
    "y_augmented = []\n",
    "\n",
    "for action in y_train.unique():\n",
    "    x_action = x_train[y_train == action]\n",
    "    num_examples = len(x_action)\n",
    "    \n",
    "    if num_examples < target_count:\n",
    "        # Augment data to match target count\n",
    "        num_augment = target_count - num_examples\n",
    "        \n",
    "        for i in range(num_augment):\n",
    "            augmented_example = seq.augment_image(x_action.sample(1).values.reshape(-1, 1)).flatten()\n",
    "            x_augmented.append(augmented_example)\n",
    "            y_augmented.append(action)\n",
    "\n",
    "# Convert lists to numpy arrays\n",
    "x_augmented_np = np.array(x_augmented)\n",
    "y_augmented_np = np.array(y_augmented)\n",
    "\n",
    "# Check the dimensions of augmented data\n",
    "print(\"Shapes after augmentation:\")\n",
    "print(\"x_augmented shape:\", x_augmented_np.shape)\n",
    "\n",
    "# Concatenate original and augmented data if augmentation was successful\n",
    "if len(x_augmented_np) > 0:\n",
    "    x_balanced = np.concatenate((x_train.values, x_augmented_np), axis=0)\n",
    "    y_balanced = np.concatenate((y_train.values, y_augmented_np))\n",
    "    \n",
    "    # Check the class distribution after augmentation\n",
    "    print(\"\\nClass distribution after balancing:\")\n",
    "    print(Counter(y_balanced))\n",
    "else:\n",
    "    print(\"No augmentation performed or no new data generated.\")\n"
   ]
  },
  {
   "cell_type": "code",
   "execution_count": 33,
   "id": "fe4484b8-cb2b-4887-a78a-ea593ecec0c1",
   "metadata": {},
   "outputs": [
    {
     "name": "stdout",
     "output_type": "stream",
     "text": [
      "Class distribution before resampling:\n",
      "0    412\n",
      "1    388\n",
      "Name: count, dtype: int64\n",
      "\n",
      "Class distribution after resampling:\n",
      "1    412\n",
      "0    412\n",
      "Name: count, dtype: int64\n",
      "\n",
      "Detailed class distribution after resampling using Counter:\n",
      "Counter({1: 412, 0: 412})\n"
     ]
    }
   ],
   "source": [
    "from imblearn.over_sampling import RandomOverSampler\n",
    "from collections import Counter\n",
    "import pandas as pd\n",
    "from sklearn.datasets import make_classification\n",
    "from sklearn.model_selection import train_test_split\n",
    "\n",
    "# Generate example data\n",
    "X, y = make_classification(n_samples=1000, n_features=10, n_classes=2, random_state=42)\n",
    "x_train, x_test, y_train, y_test = train_test_split(X, y, test_size=0.2, random_state=42)\n",
    "\n",
    "# Ensure y_train is a pandas Series\n",
    "y_train = pd.Series(y_train)\n",
    "\n",
    "# Check the class distribution before resampling\n",
    "print(\"Class distribution before resampling:\")\n",
    "print(y_train.value_counts())\n",
    "\n",
    "# Resample the dataset to balance classes\n",
    "ros = RandomOverSampler(random_state=42)\n",
    "X_resampled, y_resampled = ros.fit_resample(x_train, y_train)\n",
    "\n",
    "# Convert y_resampled to a pandas Series for consistency\n",
    "y_resampled = pd.Series(y_resampled)\n",
    "\n",
    "# Check the class distribution after resampling\n",
    "print(\"\\nClass distribution after resampling:\")\n",
    "print(y_resampled.value_counts())\n",
    "\n",
    "# Additionally, print the detailed Counter for verification\n",
    "print(\"\\nDetailed class distribution after resampling using Counter:\")\n",
    "print(Counter(y_resampled))\n"
   ]
  },
  {
   "cell_type": "code",
   "execution_count": 34,
   "id": "792638a5-cdc7-490e-b537-e37d6de382c1",
   "metadata": {},
   "outputs": [
    {
     "name": "stdout",
     "output_type": "stream",
     "text": [
      "Class distribution before balancing:\n",
      "Counter({'sad': 26, 'victorious': 26, 'fight': 24, 'happy': 24})\n",
      "\n",
      "Class distribution after balancing with RandomOverSampler:\n",
      "Counter({'fight': 26, 'happy': 26, 'sad': 26, 'victorious': 26})\n"
     ]
    }
   ],
   "source": [
    "import numpy as np\n",
    "import pandas as pd\n",
    "from imblearn.over_sampling import RandomOverSampler\n",
    "from collections import Counter\n",
    "\n",
    "# Create dummy data\n",
    "np.random.seed(42)  # For reproducibility\n",
    "X_dummy = np.random.rand(100, 1864)  # 100 samples, 1864 features each\n",
    "y_dummy = np.random.choice(['happy', 'sad', 'victorious', 'fight'], 100)  # 100 labels\n",
    "\n",
    "# Check the class distribution before balancing\n",
    "print(\"Class distribution before balancing:\")\n",
    "print(Counter(y_dummy))\n",
    "\n",
    "# Create the RandomOverSampler object\n",
    "ros = RandomOverSampler(random_state=42)\n",
    "\n",
    "# Resample the dataset to balance classes\n",
    "X_resampled, y_resampled = ros.fit_resample(X_dummy, y_dummy)\n",
    "\n",
    "# Check the class distribution after resampling\n",
    "print(\"\\nClass distribution after balancing with RandomOverSampler:\")\n",
    "print(Counter(y_resampled))\n"
   ]
  },
  {
   "cell_type": "markdown",
   "id": "0959cbd7-2713-41b0-9d8b-b1d8ad82c44c",
   "metadata": {},
   "source": [
    "!pip install imgaug\n"
   ]
  },
  {
   "cell_type": "markdown",
   "id": "12213a7d-8696-4bff-887f-be859a078e1f",
   "metadata": {},
   "source": [
    "pip install imbalanced-learn\n"
   ]
  },
  {
   "cell_type": "code",
   "execution_count": 35,
   "id": "6c4e8937-a6a7-47f2-84b2-2c41d6891e53",
   "metadata": {},
   "outputs": [
    {
     "name": "stdout",
     "output_type": "stream",
     "text": [
      "[497 503]\n"
     ]
    }
   ],
   "source": [
    "from sklearn.datasets import make_classification\n",
    "import numpy as np\n",
    "\n",
    "# Generate synthetic dataset\n",
    "x_train, y_train = make_classification(\n",
    "    n_samples=1000,    # Number of samples\n",
    "    n_features=20,     # Number of features\n",
    "    n_informative=10,  # Number of informative features\n",
    "    n_redundant=5,     # Number of redundant features\n",
    "    n_classes=2,       # Number of classes\n",
    "    random_state=42    # Random state for reproducibility\n",
    ")\n",
    "\n",
    "# Check the class distribution\n",
    "class_counts = np.bincount(y_train)\n",
    "print(class_counts)\n",
    "\n"
   ]
  },
  {
   "cell_type": "markdown",
   "id": "f38547d9-65c2-4e7a-81d6-947c956ef82c",
   "metadata": {},
   "source": [
    "# Train The Models"
   ]
  },
  {
   "cell_type": "code",
   "execution_count": 36,
   "id": "56bc0eb2-d8c6-4447-bb9f-9ba678f1877e",
   "metadata": {},
   "outputs": [
    {
     "data": {
      "text/html": [
       "<style>#sk-container-id-1 {color: black;background-color: white;}#sk-container-id-1 pre{padding: 0;}#sk-container-id-1 div.sk-toggleable {background-color: white;}#sk-container-id-1 label.sk-toggleable__label {cursor: pointer;display: block;width: 100%;margin-bottom: 0;padding: 0.3em;box-sizing: border-box;text-align: center;}#sk-container-id-1 label.sk-toggleable__label-arrow:before {content: \"▸\";float: left;margin-right: 0.25em;color: #696969;}#sk-container-id-1 label.sk-toggleable__label-arrow:hover:before {color: black;}#sk-container-id-1 div.sk-estimator:hover label.sk-toggleable__label-arrow:before {color: black;}#sk-container-id-1 div.sk-toggleable__content {max-height: 0;max-width: 0;overflow: hidden;text-align: left;background-color: #f0f8ff;}#sk-container-id-1 div.sk-toggleable__content pre {margin: 0.2em;color: black;border-radius: 0.25em;background-color: #f0f8ff;}#sk-container-id-1 input.sk-toggleable__control:checked~div.sk-toggleable__content {max-height: 200px;max-width: 100%;overflow: auto;}#sk-container-id-1 input.sk-toggleable__control:checked~label.sk-toggleable__label-arrow:before {content: \"▾\";}#sk-container-id-1 div.sk-estimator input.sk-toggleable__control:checked~label.sk-toggleable__label {background-color: #d4ebff;}#sk-container-id-1 div.sk-label input.sk-toggleable__control:checked~label.sk-toggleable__label {background-color: #d4ebff;}#sk-container-id-1 input.sk-hidden--visually {border: 0;clip: rect(1px 1px 1px 1px);clip: rect(1px, 1px, 1px, 1px);height: 1px;margin: -1px;overflow: hidden;padding: 0;position: absolute;width: 1px;}#sk-container-id-1 div.sk-estimator {font-family: monospace;background-color: #f0f8ff;border: 1px dotted black;border-radius: 0.25em;box-sizing: border-box;margin-bottom: 0.5em;}#sk-container-id-1 div.sk-estimator:hover {background-color: #d4ebff;}#sk-container-id-1 div.sk-parallel-item::after {content: \"\";width: 100%;border-bottom: 1px solid gray;flex-grow: 1;}#sk-container-id-1 div.sk-label:hover label.sk-toggleable__label {background-color: #d4ebff;}#sk-container-id-1 div.sk-serial::before {content: \"\";position: absolute;border-left: 1px solid gray;box-sizing: border-box;top: 0;bottom: 0;left: 50%;z-index: 0;}#sk-container-id-1 div.sk-serial {display: flex;flex-direction: column;align-items: center;background-color: white;padding-right: 0.2em;padding-left: 0.2em;position: relative;}#sk-container-id-1 div.sk-item {position: relative;z-index: 1;}#sk-container-id-1 div.sk-parallel {display: flex;align-items: stretch;justify-content: center;background-color: white;position: relative;}#sk-container-id-1 div.sk-item::before, #sk-container-id-1 div.sk-parallel-item::before {content: \"\";position: absolute;border-left: 1px solid gray;box-sizing: border-box;top: 0;bottom: 0;left: 50%;z-index: -1;}#sk-container-id-1 div.sk-parallel-item {display: flex;flex-direction: column;z-index: 1;position: relative;background-color: white;}#sk-container-id-1 div.sk-parallel-item:first-child::after {align-self: flex-end;width: 50%;}#sk-container-id-1 div.sk-parallel-item:last-child::after {align-self: flex-start;width: 50%;}#sk-container-id-1 div.sk-parallel-item:only-child::after {width: 0;}#sk-container-id-1 div.sk-dashed-wrapped {border: 1px dashed gray;margin: 0 0.4em 0.5em 0.4em;box-sizing: border-box;padding-bottom: 0.4em;background-color: white;}#sk-container-id-1 div.sk-label label {font-family: monospace;font-weight: bold;display: inline-block;line-height: 1.2em;}#sk-container-id-1 div.sk-label-container {text-align: center;}#sk-container-id-1 div.sk-container {/* jupyter's `normalize.less` sets `[hidden] { display: none; }` but bootstrap.min.css set `[hidden] { display: none !important; }` so we also need the `!important` here to be able to override the default hidden behavior on the sphinx rendered scikit-learn.org. See: https://github.com/scikit-learn/scikit-learn/issues/21755 */display: inline-block !important;position: relative;}#sk-container-id-1 div.sk-text-repr-fallback {display: none;}</style><div id=\"sk-container-id-1\" class=\"sk-top-container\"><div class=\"sk-text-repr-fallback\"><pre>Pipeline(steps=[(&#x27;scaler&#x27;, StandardScaler())])</pre><b>In a Jupyter environment, please rerun this cell to show the HTML representation or trust the notebook. <br />On GitHub, the HTML representation is unable to render, please try loading this page with nbviewer.org.</b></div><div class=\"sk-container\" hidden><div class=\"sk-item sk-dashed-wrapped\"><div class=\"sk-label-container\"><div class=\"sk-label sk-toggleable\"><input class=\"sk-toggleable__control sk-hidden--visually\" id=\"sk-estimator-id-1\" type=\"checkbox\" ><label for=\"sk-estimator-id-1\" class=\"sk-toggleable__label sk-toggleable__label-arrow\">Pipeline</label><div class=\"sk-toggleable__content\"><pre>Pipeline(steps=[(&#x27;scaler&#x27;, StandardScaler())])</pre></div></div></div><div class=\"sk-serial\"><div class=\"sk-item\"><div class=\"sk-estimator sk-toggleable\"><input class=\"sk-toggleable__control sk-hidden--visually\" id=\"sk-estimator-id-2\" type=\"checkbox\" ><label for=\"sk-estimator-id-2\" class=\"sk-toggleable__label sk-toggleable__label-arrow\">StandardScaler</label><div class=\"sk-toggleable__content\"><pre>StandardScaler()</pre></div></div></div></div></div></div></div>"
      ],
      "text/plain": [
       "Pipeline(steps=[('scaler', StandardScaler())])"
      ]
     },
     "execution_count": 36,
     "metadata": {},
     "output_type": "execute_result"
    }
   ],
   "source": [
    "import pandas as pd\n",
    "import numpy as np\n",
    "from sklearn.impute import SimpleImputer\n",
    "from sklearn.pipeline import Pipeline\n",
    "from sklearn.preprocessing import StandardScaler\n",
    "\n",
    "# Example data initialization (replace with your actual data initialization code)\n",
    "x_train = pd.DataFrame({'Sequence': [1, 2, 3, np.nan, 5],\n",
    "                        'Data': [0.1, 0.2, 0.3, 0.4, np.nan]})\n",
    "y_train = pd.Series([0, 1, 0, 1, 0])\n",
    "\n",
    "# Convert data to numeric if necessary\n",
    "x_train = x_train.apply(pd.to_numeric, errors='coerce')\n",
    "y_train = pd.to_numeric(y_train, errors='coerce')\n",
    "\n",
    "# Handle NaN values with SimpleImputer\n",
    "imputer = SimpleImputer(strategy='mean')\n",
    "x_train = pd.DataFrame(imputer.fit_transform(x_train), columns=x_train.columns)\n",
    "\n",
    "# Example Pipeline with StandardScaler (replace with your actual pipeline steps)\n",
    "pipeline = Pipeline([\n",
    "    ('scaler', StandardScaler())  # Example: scaling step, replace with your preprocessing steps\n",
    "])\n",
    "\n",
    "# Fit the pipeline\n",
    "pipeline.fit(x_train, y_train)\n",
    "\n",
    "# Now you can use the fitted pipeline to transform data or make predictions\n",
    "# transformed_data = pipeline.transform(x_test)\n",
    "# predictions = pipeline.predict(x_test)\n"
   ]
  },
  {
   "cell_type": "code",
   "execution_count": 37,
   "id": "79500568-3ed3-4dc0-a2d4-49c8200738f1",
   "metadata": {},
   "outputs": [],
   "source": [
    "fit_models = {}\n",
    "for algo , pipeline in pipelines.items():\n",
    "    model = pipeline.fit(x_train , y_train)\n",
    "    fit_models[algo] = model"
   ]
  },
  {
   "cell_type": "markdown",
   "id": "5c3a746a-f0b8-4fa0-afcc-0742dc1090d6",
   "metadata": {},
   "source": [
    "## Model Deployment"
   ]
  },
  {
   "cell_type": "markdown",
   "id": "fd80a11c-d992-4a6e-813d-b1d6e1e1155c",
   "metadata": {},
   "source": [
    "# Importing Packages"
   ]
  },
  {
   "cell_type": "code",
   "execution_count": 38,
   "id": "824a9f03-6a82-4dfc-a3fb-8a96ed50739d",
   "metadata": {},
   "outputs": [],
   "source": [
    "from sklearn.metrics import accuracy_score\n",
    "import pickle"
   ]
  },
  {
   "cell_type": "markdown",
   "id": "2307e3cf-6a05-4038-ba3f-3cc4aaf8b46d",
   "metadata": {},
   "source": [
    "# Model Evaluation"
   ]
  },
  {
   "cell_type": "code",
   "execution_count": 39,
   "id": "0aa77981-c075-4727-8fd1-94f33a2dbde1",
   "metadata": {},
   "outputs": [
    {
     "name": "stdout",
     "output_type": "stream",
     "text": [
      "Random Forest 0.425\n",
      "SVM 0.55\n"
     ]
    }
   ],
   "source": [
    "import numpy as np\n",
    "from sklearn.metrics import accuracy_score\n",
    "from sklearn.model_selection import train_test_split\n",
    "from sklearn.ensemble import RandomForestClassifier\n",
    "from sklearn.svm import SVC\n",
    "\n",
    "# Define the extract_keypoints function\n",
    "def extract_keypoints(results):\n",
    "    if results is None:\n",
    "        return np.zeros(1864)  # Ensure the length matches what the model expects\n",
    "\n",
    "    pose = np.array([[res.x, res.y, res.z, res.visibility] for res in results.pose_landmarks.landmark]).flatten() if results.pose_landmarks else np.zeros(33*4)\n",
    "    face = np.array([[res.x, res.y, res.z] for res in results.face_landmarks.landmark]).flatten() if results.face_landmarks else np.zeros(468*3)\n",
    "    lh = np.array([[res.x, res.y, res.z] for res in results.left_hand_landmarks.landmark]).flatten() if results.left_hand_landmarks else np.zeros(21*3)\n",
    "    rh = np.array([[res.x, res.y, res.z] for res in results.right_hand_landmarks.landmark]).flatten() if results.right_hand_landmarks else np.zeros(21*3)\n",
    "    \n",
    "    additional_features = np.zeros(1864 - len(np.concatenate([pose, face, lh, rh])))\n",
    "    \n",
    "    return np.concatenate([pose, face, lh, rh, additional_features])\n",
    "# Example dataset (Replace with your actual dataset)\n",
    "# Assuming X contains features and y contains labels\n",
    "X = np.random.rand(100, 334 + 468*3 + 21*3 + 21*3)  # 100 samples, feature size should match keypoints output\n",
    "y = np.random.randint(0, 2, 100)  # Binary classification example\n",
    "\n",
    "# Split the data into training and test sets\n",
    "x_train, x_test, y_train, y_test = train_test_split(X, y, test_size=0.4, random_state=42)\n",
    "\n",
    "# Train some example models\n",
    "fit_models = {\n",
    "    \"Random Forest\": RandomForestClassifier(),\n",
    "    \"SVM\": SVC()\n",
    "}\n",
    "\n",
    "for algo, model in fit_models.items():\n",
    "    model.fit(x_train, y_train)\n",
    "\n",
    "# Evaluate the models\n",
    "for algo, model in fit_models.items():\n",
    "    yhat = model.predict(x_test)\n",
    "    print(algo, accuracy_score(y_test, yhat))\n"
   ]
  },
  {
   "cell_type": "code",
   "execution_count": 40,
   "id": "e362cc4a-c47d-4351-947a-07f74b57bb05",
   "metadata": {},
   "outputs": [],
   "source": [
    "# Initial Model Training Code, Model Validation and Evaluation Report"
   ]
  },
  {
   "cell_type": "code",
   "execution_count": 41,
   "id": "17054258-8fd9-467c-a1b9-3876b284bfbc",
   "metadata": {},
   "outputs": [
    {
     "name": "stdout",
     "output_type": "stream",
     "text": [
      "SVM with Linear Kernel:\n",
      "Accuracy: 0.475\n",
      "F1 Score: 0.27586206896551724\n",
      "SVM F1 Score (%): 27.586206896551722\n",
      "Confusion Matrix:\n",
      "[[15  2]\n",
      " [19  4]]\n",
      "Updated Class distribution in y_pred (Linear Kernel): [34  6]\n",
      "Decision function values (Linear Kernel): [-0.41478285 -0.23077131 -0.30863916  0.13513997 -0.26631582 -0.34696559\n",
      " -0.15003583 -0.4192045  -0.18148827  0.11046714 -0.34447854 -0.48779667\n",
      " -0.29238637  0.03139882 -0.01923193 -0.3758622  -0.30843803 -0.08781386\n",
      " -0.26057965 -0.15448406 -0.03262206 -0.16277    -0.24385912 -0.28205888\n",
      " -0.36371742 -0.10713605 -0.30467312 -0.50665567 -0.20279124 -0.36472431\n",
      "  0.13775635 -0.09460985 -0.36366905 -0.04104028 -0.2858902   0.06773756\n",
      "  0.00259597 -0.18289131 -0.17516079 -0.39947627]\n"
     ]
    }
   ],
   "source": [
    "import numpy as np\n",
    "from sklearn.metrics import accuracy_score, f1_score, confusion_matrix\n",
    "from sklearn.model_selection import train_test_split\n",
    "from sklearn.svm import SVC\n",
    "from sklearn.preprocessing import StandardScaler\n",
    "from sklearn.pipeline import make_pipeline\n",
    "\n",
    "# Example dataset (Replace with your actual dataset)\n",
    "X = np.random.rand(100, 334 + 468*3 + 21*3 + 21*3)  # 100 samples, feature size should match keypoints output\n",
    "y = np.random.randint(0, 2, 100)  # Binary classification example\n",
    "\n",
    "# Split the data into training and test sets\n",
    "x_train, x_test, y_train, y_test = train_test_split(X, y, test_size=0.4, random_state=42)\n",
    "\n",
    "# Create an SVM pipeline with scaling and linear kernel\n",
    "svm_pipeline_linear = make_pipeline(StandardScaler(), SVC(kernel='linear', random_state=42))\n",
    "\n",
    "# Fit the SVM model with linear kernel\n",
    "svm_pipeline_linear.fit(x_train, y_train)\n",
    "\n",
    "# Predict on test set with linear kernel\n",
    "y_pred_linear = svm_pipeline_linear.predict(x_test)\n",
    "\n",
    "\n",
    "# Calculate and print metrics for linear kernel\n",
    "svm_accuracy_linear = accuracy_score(y_test, y_pred_linear)\n",
    "print(\"SVM with Linear Kernel:\")\n",
    "print(f\"Accuracy: {svm_accuracy_linear}\")\n",
    "\n",
    "svm_f1_linear = f1_score(y_test, y_pred_linear)\n",
    "print(f\"F1 Score: {svm_f1_linear}\")\n",
    "svm_f1_percentage = svm_f1_linear * 100  \n",
    "print(\"SVM F1 Score (%):\", svm_f1_percentage)\n",
    "\n",
    "\n",
    "svm_cm_linear = confusion_matrix(y_test, y_pred_linear)\n",
    "print(f\"Confusion Matrix:\\n{svm_cm_linear}\")\n",
    "\n",
    "# Print the updated class distribution in y_pred_linear\n",
    "print(f\"Updated Class distribution in y_pred (Linear Kernel): {np.bincount(y_pred_linear)}\")\n",
    "\n",
    "# Print the decision function values for linear kernel to understand thresholds\n",
    "decision_values_linear = svm_pipeline_linear.decision_function(x_test)\n",
    "print(f\"Decision function values (Linear Kernel): {decision_values_linear}\")\n",
    "\n",
    "\n"
   ]
  },
  {
   "cell_type": "code",
   "execution_count": 42,
   "id": "14f40ce0-5214-48e4-be8c-7bb2ad7d3d2d",
   "metadata": {},
   "outputs": [
    {
     "name": "stdout",
     "output_type": "stream",
     "text": [
      "SVM Classification Report:\n",
      "              precision    recall  f1-score   support\n",
      "\n",
      "           0       0.44      0.88      0.59        17\n",
      "           1       0.67      0.17      0.28        23\n",
      "\n",
      "    accuracy                           0.48        40\n",
      "   macro avg       0.55      0.53      0.43        40\n",
      "weighted avg       0.57      0.47      0.41        40\n",
      "\n"
     ]
    }
   ],
   "source": [
    "from sklearn.metrics import classification_report\n",
    "\n",
    "# Generate classification report using y_pred_linear\n",
    "svm_classification_report = classification_report(y_test, y_pred_linear)\n",
    "print(f\"SVM Classification Report:\\n{svm_classification_report}\")\n"
   ]
  },
  {
   "cell_type": "code",
   "execution_count": 43,
   "id": "cce8b9e1-a9cc-4422-a3ca-38de6504f5b7",
   "metadata": {},
   "outputs": [
    {
     "name": "stdout",
     "output_type": "stream",
     "text": [
      "Logistic Regression Accuracy: 0.425\n",
      "Logistic Regression F1 Score: 0.37837837837837834\n",
      "Logistic Regression F1 Score (%): 37.83783783783783\n",
      "Logistic Regression Confusion Matrix:\n",
      "[[10  9]\n",
      " [14  7]]\n"
     ]
    }
   ],
   "source": [
    "import numpy as np\n",
    "from sklearn.metrics import accuracy_score, f1_score, confusion_matrix\n",
    "from sklearn.model_selection import train_test_split\n",
    "from sklearn.linear_model import LogisticRegression\n",
    "from sklearn.preprocessing import StandardScaler\n",
    "\n",
    "# Example dataset (Replace with your actual dataset)\n",
    "X = np.random.rand(100, 334 + 468*3 + 21*3 + 21*3)  # 100 samples, feature size should match keypoints output\n",
    "y = np.random.randint(0, 2, 100)  # Binary classification example\n",
    "\n",
    "# Split the data into training and test sets\n",
    "x_train, x_test, y_train, y_test = train_test_split(X, y, test_size=0.4, random_state=42)\n",
    "\n",
    "# Standardize the data\n",
    "scaler = StandardScaler()\n",
    "x_train_scaled = scaler.fit_transform(x_train)\n",
    "x_test_scaled = scaler.transform(x_test)\n",
    "\n",
    "# Create the Logistic Regression model\n",
    "logreg_model = LogisticRegression(solver='liblinear', random_state=42)\n",
    "\n",
    "# Fit the model\n",
    "logreg_model.fit(x_train_scaled, y_train)\n",
    "\n",
    "# Predict on test set\n",
    "lr_yhat = logreg_model.predict(x_test_scaled)\n",
    "\n",
    "\n",
    "# Calculate and print metrics\n",
    "lr_accuracy = accuracy_score(y_test, lr_yhat)\n",
    "print(f\"Logistic Regression Accuracy: {lr_accuracy}\")\n",
    "\n",
    "lr_f1 = f1_score(y_test, lr_yhat)\n",
    "print(f\"Logistic Regression F1 Score: {lr_f1}\")\n",
    "lr_f1_percentage = lr_f1 * 100\n",
    "print(\"Logistic Regression F1 Score (%):\", lr_f1_percentage)\n",
    "\n",
    "lr_cm = confusion_matrix(y_test, lr_yhat)\n",
    "print(f\"Logistic Regression Confusion Matrix:\\n{lr_cm}\")\n"
   ]
  },
  {
   "cell_type": "code",
   "execution_count": 44,
   "id": "568087f9-8335-420b-a63d-e61ecfc5eb25",
   "metadata": {},
   "outputs": [
    {
     "name": "stdout",
     "output_type": "stream",
     "text": [
      "Logistic Regression Classification Report:\n",
      "              precision    recall  f1-score   support\n",
      "\n",
      "           0       0.42      0.53      0.47        19\n",
      "           1       0.44      0.33      0.38        21\n",
      "\n",
      "    accuracy                           0.42        40\n",
      "   macro avg       0.43      0.43      0.42        40\n",
      "weighted avg       0.43      0.42      0.42        40\n",
      "\n"
     ]
    }
   ],
   "source": [
    "from sklearn.metrics import classification_report\n",
    "\n",
    "# Assuming best_lr_model, y_test, and lr_yhat have been defined as above\n",
    "lr_classification_report = classification_report(y_test, lr_yhat)\n",
    "print(f\"Logistic Regression Classification Report:\\n{lr_classification_report}\")\n"
   ]
  },
  {
   "cell_type": "code",
   "execution_count": 45,
   "id": "f9bc393d-c489-4a39-a13f-85b0edef9a3c",
   "metadata": {},
   "outputs": [
    {
     "name": "stdout",
     "output_type": "stream",
     "text": [
      "Ridge Classifier Accuracy: 0.45\n",
      "Ridge Classifier F1 Score: 0.47619047619047616\n",
      "Ridge Classifier F1 Score (%): 47.61904761904761\n",
      "Ridge Classifier Confusion Matrix:\n",
      "[[ 8 12]\n",
      " [10 10]]\n"
     ]
    }
   ],
   "source": [
    "import numpy as np\n",
    "from sklearn.metrics import accuracy_score, f1_score, confusion_matrix\n",
    "from sklearn.model_selection import train_test_split\n",
    "from sklearn.linear_model import RidgeClassifier\n",
    "\n",
    "# Example dataset (Replace with your actual dataset)\n",
    "X = np.random.rand(100, 334 + 468*3 + 21*3 + 21*3)  # 100 samples, feature size should match keypoints output\n",
    "y = np.random.randint(0, 2, 100)  # Binary classification example\n",
    "\n",
    "# Split the data into training and test sets\n",
    "x_train, x_test, y_train, y_test = train_test_split(X, y, test_size=0.4, random_state=42)\n",
    "\n",
    "# Create the Ridge Classifier model with default parameters\n",
    "ridge_model = RidgeClassifier(alpha=1.0, random_state=42)\n",
    "\n",
    "# Fit the model\n",
    "ridge_model.fit(x_train, y_train)\n",
    "\n",
    "# Predict on test set\n",
    "rc_yhat = ridge_model.predict(x_test)\n",
    "\n",
    "\n",
    "\n",
    "# Calculate and print  metrics\n",
    "rc_accuracy = accuracy_score(y_test, rc_yhat)\n",
    "print(f\"Ridge Classifier Accuracy: {rc_accuracy}\")\n",
    "\n",
    "\n",
    "rc_f1 = f1_score(y_test, rc_yhat)\n",
    "print(f\"Ridge Classifier F1 Score: {rc_f1}\")\n",
    "rc_f1_percentage = rc_f1 * 100\n",
    "print(\"Ridge Classifier F1 Score (%):\", rc_f1_percentage)\n",
    "\n",
    "\n",
    "rc_cm = confusion_matrix(y_test, rc_yhat)\n",
    "print(f\"Ridge Classifier Confusion Matrix:\\n{rc_cm}\")\n"
   ]
  },
  {
   "cell_type": "code",
   "execution_count": 46,
   "id": "8357cf2d-0850-4a05-8820-a98d305f388e",
   "metadata": {},
   "outputs": [
    {
     "name": "stdout",
     "output_type": "stream",
     "text": [
      "Ridge Classifier Classification Report:\n",
      "              precision    recall  f1-score   support\n",
      "\n",
      "           0       0.44      0.40      0.42        20\n",
      "           1       0.45      0.50      0.48        20\n",
      "\n",
      "    accuracy                           0.45        40\n",
      "   macro avg       0.45      0.45      0.45        40\n",
      "weighted avg       0.45      0.45      0.45        40\n",
      "\n"
     ]
    }
   ],
   "source": [
    "from sklearn.metrics import classification_report\n",
    "# Generate classification report using best_rc_model\n",
    "ridge_classification_report = classification_report(y_test, rc_yhat)\n",
    "print(f\"Ridge Classifier Classification Report:\\n{ridge_classification_report}\")"
   ]
  },
  {
   "cell_type": "code",
   "execution_count": 47,
   "id": "3af997ff-927d-45c0-834b-b32c02f35adf",
   "metadata": {},
   "outputs": [
    {
     "name": "stdout",
     "output_type": "stream",
     "text": [
      "Gradient Boosting Classifier Accuracy: 0.375\n",
      "Gradient Boosting Classifier F1 Score: 0.41860465116279066\n",
      "Gradient Boosting Classifier F1 Score (%): 41.860465116279066\n",
      "Gradient Boosting Classifier Confusion Matrix:\n",
      "[[ 6  9]\n",
      " [16  9]]\n"
     ]
    }
   ],
   "source": [
    "import numpy as np\n",
    "from sklearn.metrics import accuracy_score, f1_score, confusion_matrix\n",
    "from sklearn.model_selection import train_test_split\n",
    "from sklearn.ensemble import GradientBoostingClassifier\n",
    "\n",
    "# Example dataset (Replace with your actual dataset)\n",
    "X = np.random.rand(100, 334 + 468*3 + 21*3 + 21*3)  # 100 samples, feature size should match keypoints output\n",
    "y = np.random.randint(0, 2, 100)  # Binary classification example\n",
    "\n",
    "# Split the data into training and test sets\n",
    "x_train, x_test, y_train, y_test = train_test_split(X, y, test_size=0.4, random_state=42)\n",
    "\n",
    "# Create the Gradient Boosting Classifier model with default parameters\n",
    "gb_model = GradientBoostingClassifier(random_state=42)\n",
    "\n",
    "# Fit the model\n",
    "gb_model.fit(x_train, y_train)\n",
    "\n",
    "# Predict on test set\n",
    "gb_yhat = gb_model.predict(x_test)\n",
    "\n",
    "\n",
    "\n",
    "# Calculate and print  metrics\n",
    "gb_accuracy = accuracy_score(y_test, gb_yhat)\n",
    "print(f\"Gradient Boosting Classifier Accuracy: {gb_accuracy}\")\n",
    "\n",
    "\n",
    "gb_f1 = f1_score(y_test, gb_yhat)\n",
    "print(f\"Gradient Boosting Classifier F1 Score: {gb_f1}\")\n",
    "gb_f1_percentage = gb_f1 * 100\n",
    "print(\"Gradient Boosting Classifier F1 Score (%):\", gb_f1_percentage)\n",
    "\n",
    "\n",
    "gb_cm = confusion_matrix(y_test, gb_yhat)\n",
    "print(f\"Gradient Boosting Classifier Confusion Matrix:\\n{gb_cm}\")\n"
   ]
  },
  {
   "cell_type": "code",
   "execution_count": 48,
   "id": "3ad8b663-0bd0-4253-8477-570e2187c484",
   "metadata": {},
   "outputs": [
    {
     "name": "stdout",
     "output_type": "stream",
     "text": [
      "Gradient Boosting Classifier Classification Report:\n",
      "              precision    recall  f1-score   support\n",
      "\n",
      "           0       0.27      0.40      0.32        15\n",
      "           1       0.50      0.36      0.42        25\n",
      "\n",
      "    accuracy                           0.38        40\n",
      "   macro avg       0.39      0.38      0.37        40\n",
      "weighted avg       0.41      0.38      0.38        40\n",
      "\n"
     ]
    }
   ],
   "source": [
    "from sklearn.metrics import classification_report\n",
    "\n",
    "# Get the classification report\n",
    "gb_classification_report = classification_report(y_test, gb_yhat)\n",
    "print(f\"Gradient Boosting Classifier Classification Report:\\n{gb_classification_report}\")\n"
   ]
  },
  {
   "cell_type": "code",
   "execution_count": 50,
   "id": "0f7a219e-f4a7-49fd-9617-0cec3fe39106",
   "metadata": {},
   "outputs": [
    {
     "name": "stdout",
     "output_type": "stream",
     "text": [
      "Random Forest Accuracy: 0.6\n",
      "Random Forest F1 Score: 0.7499999999999999\n",
      "Random Forest F1 Score (%): 74.99999999999999\n",
      "Random Forest Confusion Matrix:\n",
      "[[ 0 16]\n",
      " [ 0 24]]\n"
     ]
    }
   ],
   "source": [
    "import numpy as np\n",
    "from sklearn.metrics import accuracy_score, f1_score, confusion_matrix\n",
    "from sklearn.model_selection import train_test_split\n",
    "from sklearn.ensemble import RandomForestClassifier\n",
    "\n",
    "# Example dataset (Replace with your actual dataset)\n",
    "X = np.random.rand(100, 334 + 468*3 + 21*3 + 21*3)  # 100 samples, feature size should match keypoints output\n",
    "y = np.random.randint(0, 2, 100)  # Binary classification example\n",
    "\n",
    "# Split the data into training and test sets\n",
    "x_train, x_test, y_train, y_test = train_test_split(X, y, test_size=0.4, random_state=42)\n",
    "\n",
    "# Create the Random Forest Classifier model with default parameters\n",
    "rf_model = RandomForestClassifier(random_state=42)\n",
    "\n",
    "# Fit the model\n",
    "rf_model.fit(x_train, y_train)\n",
    "\n",
    "# Predict on test set\n",
    "rf_yhat = rf_model.predict(x_test)\n",
    "\n",
    "\n",
    "\n",
    "# Calculate and print  metrics\n",
    "rf_accuracy = accuracy_score(y_test, rf_yhat)\n",
    "print(f\"Random Forest Accuracy: {rf_accuracy}\")\n",
    "\n",
    "\n",
    "rf_f1 = f1_score(y_test, rf_yhat)\n",
    "print(f\"Random Forest F1 Score: {rf_f1}\")\n",
    "rf_f1_percentage = rf_f1 * 100\n",
    "print(\"Random Forest F1 Score (%):\", rf_f1_percentage)\n",
    "\n",
    "rf_cm = confusion_matrix(y_test, rf_yhat)\n",
    "print(f\"Random Forest Confusion Matrix:\\n{rf_cm}\")\n"
   ]
  },
  {
   "cell_type": "code",
   "execution_count": 51,
   "id": "e0869032-f5a1-4102-a948-ae3d1883ec10",
   "metadata": {},
   "outputs": [
    {
     "name": "stdout",
     "output_type": "stream",
     "text": [
      "Random Forest Classifier Classification Report:\n",
      "              precision    recall  f1-score   support\n",
      "\n",
      "           0       0.00      0.00      0.00        16\n",
      "           1       0.60      1.00      0.75        24\n",
      "\n",
      "    accuracy                           0.60        40\n",
      "   macro avg       0.30      0.50      0.37        40\n",
      "weighted avg       0.36      0.60      0.45        40\n",
      "\n"
     ]
    },
    {
     "name": "stderr",
     "output_type": "stream",
     "text": [
      "C:\\Users\\lenovo\\anaconda3\\Lib\\site-packages\\sklearn\\metrics\\_classification.py:1344: UndefinedMetricWarning: Precision and F-score are ill-defined and being set to 0.0 in labels with no predicted samples. Use `zero_division` parameter to control this behavior.\n",
      "  _warn_prf(average, modifier, msg_start, len(result))\n",
      "C:\\Users\\lenovo\\anaconda3\\Lib\\site-packages\\sklearn\\metrics\\_classification.py:1344: UndefinedMetricWarning: Precision and F-score are ill-defined and being set to 0.0 in labels with no predicted samples. Use `zero_division` parameter to control this behavior.\n",
      "  _warn_prf(average, modifier, msg_start, len(result))\n",
      "C:\\Users\\lenovo\\anaconda3\\Lib\\site-packages\\sklearn\\metrics\\_classification.py:1344: UndefinedMetricWarning: Precision and F-score are ill-defined and being set to 0.0 in labels with no predicted samples. Use `zero_division` parameter to control this behavior.\n",
      "  _warn_prf(average, modifier, msg_start, len(result))\n"
     ]
    }
   ],
   "source": [
    "from sklearn.metrics import classification_report\n",
    "\n",
    "# Get the classification report\n",
    "rf_classification_report = classification_report(y_test, rf_yhat)\n",
    "print(f\"Random Forest Classifier Classification Report:\\n{rf_classification_report}\")\n"
   ]
  },
  {
   "cell_type": "markdown",
   "id": "cc91a60e-d8a9-4fbb-877d-f577d8359f67",
   "metadata": {},
   "source": [
    "# Hyperparameters Performance"
   ]
  },
  {
   "cell_type": "code",
   "execution_count": 52,
   "id": "377691f0-2b52-4ea8-bae5-a06d96ad75fe",
   "metadata": {},
   "outputs": [
    {
     "name": "stderr",
     "output_type": "stream",
     "text": [
      "C:\\Users\\lenovo\\anaconda3\\Lib\\site-packages\\sklearn\\model_selection\\_search.py:305: UserWarning: The total space of parameters 32 is smaller than n_iter=100. Running 32 iterations. For exhaustive searches, use GridSearchCV.\n",
      "  warnings.warn(\n"
     ]
    },
    {
     "name": "stdout",
     "output_type": "stream",
     "text": [
      "Fitting 5 folds for each of 32 candidates, totalling 160 fits\n",
      "Best parameters from RandomizedSearchCV:  {'kernel': 'rbf', 'gamma': 'scale', 'C': 0.1}\n",
      "Best score from RandomizedSearchCV:  0.6166666666666666\n",
      "Training accuracy:  0.6166666666666667\n",
      "Test accuracy:  0.6\n",
      "Classification report:\n",
      "               precision    recall  f1-score   support\n",
      "\n",
      "           0       0.00      0.00      0.00        16\n",
      "           1       0.60      1.00      0.75        24\n",
      "\n",
      "    accuracy                           0.60        40\n",
      "   macro avg       0.30      0.50      0.37        40\n",
      "weighted avg       0.36      0.60      0.45        40\n",
      "\n",
      "Confusion Matrix:\n",
      " [[ 0 16]\n",
      " [ 0 24]]\n",
      "SVM F1 Score: 0.7499999999999999\n",
      "SVM F1 Score (%): 74.99999999999999\n"
     ]
    },
    {
     "name": "stderr",
     "output_type": "stream",
     "text": [
      "C:\\Users\\lenovo\\anaconda3\\Lib\\site-packages\\sklearn\\metrics\\_classification.py:1344: UndefinedMetricWarning: Precision and F-score are ill-defined and being set to 0.0 in labels with no predicted samples. Use `zero_division` parameter to control this behavior.\n",
      "  _warn_prf(average, modifier, msg_start, len(result))\n",
      "C:\\Users\\lenovo\\anaconda3\\Lib\\site-packages\\sklearn\\metrics\\_classification.py:1344: UndefinedMetricWarning: Precision and F-score are ill-defined and being set to 0.0 in labels with no predicted samples. Use `zero_division` parameter to control this behavior.\n",
      "  _warn_prf(average, modifier, msg_start, len(result))\n",
      "C:\\Users\\lenovo\\anaconda3\\Lib\\site-packages\\sklearn\\metrics\\_classification.py:1344: UndefinedMetricWarning: Precision and F-score are ill-defined and being set to 0.0 in labels with no predicted samples. Use `zero_division` parameter to control this behavior.\n",
      "  _warn_prf(average, modifier, msg_start, len(result))\n"
     ]
    }
   ],
   "source": [
    "#Hyperparameters Performance for SVM(Support Vector Machine)\n",
    "\n",
    "import numpy as np\n",
    "import pandas as pd\n",
    "from sklearn.svm import SVC\n",
    "from sklearn.model_selection import RandomizedSearchCV\n",
    "from sklearn.metrics import accuracy_score, classification_report, f1_score\n",
    "\n",
    "# Define the parameter grid for RandomizedSearchCV\n",
    "param_distributions = {\n",
    "    'C': [0.1, 1, 10, 100],\n",
    "    'kernel': ['linear', 'poly', 'rbf', 'sigmoid'],\n",
    "    'gamma': ['scale', 'auto']\n",
    "}\n",
    "\n",
    "# Create the SVM\n",
    "svm = SVC()\n",
    "\n",
    "# Perform RandomizedSearchCV\n",
    "random_search_svm = RandomizedSearchCV(estimator=svm, param_distributions=param_distributions, n_iter=100, cv=5, n_jobs=-1, verbose=1, random_state=42)\n",
    "\n",
    "# Fit the RandomizedSearchCV to the training data\n",
    "random_search_svm.fit(x_train, y_train)\n",
    "\n",
    "# Get the best parameters and best score\n",
    "print(\"Best parameters from RandomizedSearchCV: \", random_search_svm.best_params_)\n",
    "print(\"Best score from RandomizedSearchCV: \", random_search_svm.best_score_)\n",
    "\n",
    "# Assuming you have already defined and trained your best SVM model\n",
    "best_svm = random_search_svm.best_estimator_\n",
    "\n",
    "# Make predictions on the training set\n",
    "y_tr = best_svm.predict(x_train)\n",
    "print(\"Training accuracy: \", accuracy_score(y_tr, y_train))\n",
    "\n",
    "# Make predictions on the test set\n",
    "y_pred = best_svm.predict(x_test)\n",
    "print(\"Test accuracy: \", accuracy_score(y_pred, y_test))\n",
    "\n",
    "print(\"Classification report:\\n\", classification_report(y_test, y_pred))\n",
    "\n",
    "\n",
    "\n",
    "\n",
    "# Calculate confusion matrix\n",
    "conf_matrix = confusion_matrix(y_test, y_pred)\n",
    "print(\"Confusion Matrix:\\n\", conf_matrix)\n",
    "\n",
    "\n",
    "\n",
    "# Calculate F1 score\n",
    "svm_f1 = f1_score(y_test, y_pred)\n",
    "print(f\"SVM F1 Score: {svm_f1}\")\n",
    "svm_f1_percentage = svm_f1 * 100\n",
    "print(\"SVM F1 Score (%):\", svm_f1_percentage)\n",
    "\n"
   ]
  },
  {
   "cell_type": "code",
   "execution_count": 53,
   "id": "9711068c-3b19-4303-a1c8-9a15d1bd6c90",
   "metadata": {},
   "outputs": [
    {
     "name": "stdout",
     "output_type": "stream",
     "text": [
      "Fitting 5 folds for each of 20 candidates, totalling 100 fits\n"
     ]
    },
    {
     "name": "stderr",
     "output_type": "stream",
     "text": [
      "C:\\Users\\lenovo\\anaconda3\\Lib\\site-packages\\sklearn\\model_selection\\_search.py:305: UserWarning: The total space of parameters 20 is smaller than n_iter=100. Running 20 iterations. For exhaustive searches, use GridSearchCV.\n",
      "  warnings.warn(\n"
     ]
    },
    {
     "name": "stdout",
     "output_type": "stream",
     "text": [
      "Best parameters from RandomizedSearchCV:  {'solver': 'newton-cg', 'C': 0.1}\n",
      "Best score from RandomizedSearchCV:  0.6\n",
      "Training accuracy:  1.0\n",
      "Test accuracy:  0.6\n",
      "Classification report:\n",
      "               precision    recall  f1-score   support\n",
      "\n",
      "           0       0.00      0.00      0.00        16\n",
      "           1       0.60      1.00      0.75        24\n",
      "\n",
      "    accuracy                           0.60        40\n",
      "   macro avg       0.30      0.50      0.37        40\n",
      "weighted avg       0.36      0.60      0.45        40\n",
      "\n",
      "Confusion Matrix:\n",
      " [[ 0 16]\n",
      " [ 0 24]]\n",
      "Logistic Regression F1 Score: 0.7499999999999999\n",
      "Logistic Regression F1 Score (%): 74.99999999999999\n"
     ]
    },
    {
     "name": "stderr",
     "output_type": "stream",
     "text": [
      "C:\\Users\\lenovo\\anaconda3\\Lib\\site-packages\\sklearn\\metrics\\_classification.py:1344: UndefinedMetricWarning: Precision and F-score are ill-defined and being set to 0.0 in labels with no predicted samples. Use `zero_division` parameter to control this behavior.\n",
      "  _warn_prf(average, modifier, msg_start, len(result))\n",
      "C:\\Users\\lenovo\\anaconda3\\Lib\\site-packages\\sklearn\\metrics\\_classification.py:1344: UndefinedMetricWarning: Precision and F-score are ill-defined and being set to 0.0 in labels with no predicted samples. Use `zero_division` parameter to control this behavior.\n",
      "  _warn_prf(average, modifier, msg_start, len(result))\n",
      "C:\\Users\\lenovo\\anaconda3\\Lib\\site-packages\\sklearn\\metrics\\_classification.py:1344: UndefinedMetricWarning: Precision and F-score are ill-defined and being set to 0.0 in labels with no predicted samples. Use `zero_division` parameter to control this behavior.\n",
      "  _warn_prf(average, modifier, msg_start, len(result))\n"
     ]
    }
   ],
   "source": [
    "#Hyperparameters Performance for LogisticRegression\n",
    "\n",
    "import numpy as np\n",
    "import pandas as pd\n",
    "from sklearn.linear_model import LogisticRegression\n",
    "from sklearn.model_selection import RandomizedSearchCV\n",
    "from sklearn.metrics import accuracy_score, classification_report, f1_score\n",
    "\n",
    "# Define the parameter grid for RandomizedSearchCV\n",
    "param_distributions = {\n",
    "    'C': [0.1, 1, 10, 100],\n",
    "    'solver': ['newton-cg', 'lbfgs', 'liblinear', 'sag', 'saga']\n",
    "}\n",
    "\n",
    "# Create the LogisticRegression\n",
    "log_reg = LogisticRegression()\n",
    "\n",
    "# Perform RandomizedSearchCV\n",
    "random_search_log_reg = RandomizedSearchCV(estimator=log_reg, param_distributions=param_distributions, n_iter=100, cv=5, n_jobs=-1, verbose=1, random_state=42)\n",
    "\n",
    "# Fit the RandomizedSearchCV to the training data\n",
    "random_search_log_reg.fit(x_train, y_train)\n",
    "\n",
    "# Get the best parameters and best score\n",
    "print(\"Best parameters from RandomizedSearchCV: \", random_search_log_reg.best_params_)\n",
    "print(\"Best score from RandomizedSearchCV: \", random_search_log_reg.best_score_)\n",
    "\n",
    "# Assuming you have already defined and trained your best Logistic Regression model\n",
    "best_log_reg = random_search_log_reg.best_estimator_\n",
    "\n",
    "# Make predictions on the training set\n",
    "y_tr = best_log_reg.predict(x_train)\n",
    "print(\"Training accuracy: \", accuracy_score(y_tr, y_train))\n",
    "\n",
    "# Make predictions on the test set\n",
    "y_pred = best_log_reg.predict(x_test)\n",
    "print(\"Test accuracy: \", accuracy_score(y_pred, y_test))\n",
    "\n",
    "\n",
    "print(\"Classification report:\\n\", classification_report(y_test, y_pred))\n",
    "\n",
    "\n",
    "# Calculate confusion matrix\n",
    "conf_matrix = confusion_matrix(y_test, y_pred)\n",
    "print(\"Confusion Matrix:\\n\", conf_matrix)\n",
    "\n",
    "\n",
    "# Calculate F1 score\n",
    "log_reg_f1 = f1_score(y_test, y_pred)\n",
    "print(f\"Logistic Regression F1 Score: {log_reg_f1}\")\n",
    "log_reg_f1_percentage = log_reg_f1 * 100\n",
    "print(\"Logistic Regression F1 Score (%):\", log_reg_f1_percentage)\n",
    "\n",
    "\n"
   ]
  },
  {
   "cell_type": "code",
   "execution_count": 54,
   "id": "c47ed031-f5b8-4819-933b-05637a4b0f39",
   "metadata": {},
   "outputs": [
    {
     "name": "stderr",
     "output_type": "stream",
     "text": [
      "C:\\Users\\lenovo\\anaconda3\\Lib\\site-packages\\sklearn\\model_selection\\_search.py:305: UserWarning: The total space of parameters 28 is smaller than n_iter=100. Running 28 iterations. For exhaustive searches, use GridSearchCV.\n",
      "  warnings.warn(\n"
     ]
    },
    {
     "name": "stdout",
     "output_type": "stream",
     "text": [
      "Fitting 5 folds for each of 28 candidates, totalling 140 fits\n",
      "Best parameters from RandomizedSearchCV:  {'solver': 'auto', 'alpha': 100}\n",
      "Best score from RandomizedSearchCV:  0.6\n",
      "Training accuracy:  1.0\n",
      "Test accuracy:  0.6\n",
      "Classification report:\n",
      "               precision    recall  f1-score   support\n",
      "\n",
      "           0       0.00      0.00      0.00        16\n",
      "           1       0.60      1.00      0.75        24\n",
      "\n",
      "    accuracy                           0.60        40\n",
      "   macro avg       0.30      0.50      0.37        40\n",
      "weighted avg       0.36      0.60      0.45        40\n",
      "\n",
      "Confusion Matrix:\n",
      " [[ 0 16]\n",
      " [ 0 24]]\n",
      "RidgeClassifier F1 Score: 0.7499999999999999\n",
      "RidgeClassifier F1 Score (%): 74.99999999999999\n"
     ]
    },
    {
     "name": "stderr",
     "output_type": "stream",
     "text": [
      "C:\\Users\\lenovo\\anaconda3\\Lib\\site-packages\\sklearn\\metrics\\_classification.py:1344: UndefinedMetricWarning: Precision and F-score are ill-defined and being set to 0.0 in labels with no predicted samples. Use `zero_division` parameter to control this behavior.\n",
      "  _warn_prf(average, modifier, msg_start, len(result))\n",
      "C:\\Users\\lenovo\\anaconda3\\Lib\\site-packages\\sklearn\\metrics\\_classification.py:1344: UndefinedMetricWarning: Precision and F-score are ill-defined and being set to 0.0 in labels with no predicted samples. Use `zero_division` parameter to control this behavior.\n",
      "  _warn_prf(average, modifier, msg_start, len(result))\n",
      "C:\\Users\\lenovo\\anaconda3\\Lib\\site-packages\\sklearn\\metrics\\_classification.py:1344: UndefinedMetricWarning: Precision and F-score are ill-defined and being set to 0.0 in labels with no predicted samples. Use `zero_division` parameter to control this behavior.\n",
      "  _warn_prf(average, modifier, msg_start, len(result))\n"
     ]
    }
   ],
   "source": [
    "#Hyperparameters Performance for RidgeClassifier\n",
    "\n",
    "import numpy as np\n",
    "import pandas as pd\n",
    "from sklearn.linear_model import RidgeClassifier\n",
    "from sklearn.model_selection import RandomizedSearchCV\n",
    "from sklearn.metrics import accuracy_score, classification_report, f1_score\n",
    "\n",
    "# Define the parameter grid for RandomizedSearchCV\n",
    "param_distributions = {\n",
    "    'alpha': [0.1, 1, 10, 100],\n",
    "    'solver': ['auto', 'svd', 'cholesky', 'lsqr', 'sparse_cg', 'sag', 'saga']\n",
    "}\n",
    "\n",
    "# Create the RidgeClassifier\n",
    "ridge = RidgeClassifier()\n",
    "\n",
    "# Perform RandomizedSearchCV\n",
    "random_search_ridge = RandomizedSearchCV(estimator=ridge, param_distributions=param_distributions, n_iter=100, cv=5, n_jobs=-1, verbose=1, random_state=42)\n",
    "\n",
    "# Fit the RandomizedSearchCV to the training data\n",
    "random_search_ridge.fit(x_train, y_train)\n",
    "\n",
    "# Get the best parameters and best score\n",
    "print(\"Best parameters from RandomizedSearchCV: \", random_search_ridge.best_params_)\n",
    "print(\"Best score from RandomizedSearchCV: \", random_search_ridge.best_score_)\n",
    "\n",
    "# Assuming you have already defined and trained your best RidgeClassifier model\n",
    "best_ridge = random_search_ridge.best_estimator_\n",
    "\n",
    "# Make predictions on the training set\n",
    "y_tr = best_ridge.predict(x_train)\n",
    "print(\"Training accuracy: \", accuracy_score(y_tr, y_train))\n",
    "\n",
    "# Make predictions on the test set\n",
    "y_pred = best_ridge.predict(x_test)\n",
    "print(\"Test accuracy: \", accuracy_score(y_pred, y_test))\n",
    "\n",
    "\n",
    "print(\"Classification report:\\n\", classification_report(y_test, y_pred))\n",
    "\n",
    "# Calculate confusion matrix\n",
    "conf_matrix = confusion_matrix(y_test, y_pred)\n",
    "print(\"Confusion Matrix:\\n\", conf_matrix)\n",
    "\n",
    "# Calculate F1 score\n",
    "ridge_f1 = f1_score(y_test, y_pred)\n",
    "print(f\"RidgeClassifier F1 Score: {ridge_f1}\")\n",
    "ridge_f1_percentage = ridge_f1 * 100\n",
    "print(\"RidgeClassifier F1 Score (%):\", ridge_f1_percentage)\n",
    "\n",
    "\n"
   ]
  },
  {
   "cell_type": "code",
   "execution_count": 55,
   "id": "db600365-741b-4d13-a6e0-90166b476c17",
   "metadata": {},
   "outputs": [
    {
     "name": "stderr",
     "output_type": "stream",
     "text": [
      "C:\\Users\\lenovo\\anaconda3\\Lib\\site-packages\\sklearn\\model_selection\\_search.py:305: UserWarning: The total space of parameters 32 is smaller than n_iter=50. Running 32 iterations. For exhaustive searches, use GridSearchCV.\n",
      "  warnings.warn(\n"
     ]
    },
    {
     "name": "stdout",
     "output_type": "stream",
     "text": [
      "Fitting 3 folds for each of 32 candidates, totalling 96 fits\n",
      "Best parameters from RandomizedSearchCV:  {'n_estimators': 50, 'min_samples_split': 2, 'min_samples_leaf': 2, 'max_depth': 4, 'learning_rate': 0.1}\n",
      "Best score from RandomizedSearchCV:  0.8925298320427935\n",
      "Training accuracy:  0.945\n",
      "Test accuracy:  0.855\n",
      "Classification report:\n",
      "               precision    recall  f1-score   support\n",
      "\n",
      "           0       0.83      0.86      0.85        93\n",
      "           1       0.88      0.85      0.86       107\n",
      "\n",
      "    accuracy                           0.85       200\n",
      "   macro avg       0.85      0.86      0.85       200\n",
      "weighted avg       0.86      0.85      0.86       200\n",
      "\n",
      "Confusion Matrix:\n",
      " [[80 13]\n",
      " [16 91]]\n",
      "Gradient Boosting F1 Score: 0.8625592417061612\n",
      "Gradient Boosting F1 Score (%): 86.25592417061611\n"
     ]
    }
   ],
   "source": [
    "import numpy as np\n",
    "import pandas as pd\n",
    "from sklearn.model_selection import train_test_split, RandomizedSearchCV\n",
    "from sklearn.ensemble import GradientBoostingClassifier\n",
    "from sklearn.datasets import make_classification\n",
    "from sklearn.metrics import accuracy_score, classification_report, f1_score\n",
    "\n",
    "# Generate sample data\n",
    "x, y = make_classification(n_samples=1000, n_features=20, random_state=42)\n",
    "x_train, x_test, y_train, y_test = train_test_split(x, y, test_size=0.2, random_state=42)\n",
    "\n",
    "# Define a smaller parameter grid for RandomizedSearchCV\n",
    "param_distributions = {\n",
    "    'n_estimators': [50, 100],\n",
    "    'learning_rate': [0.01, 0.1],\n",
    "    'max_depth': [3, 4],\n",
    "    'min_samples_split': [2, 5],\n",
    "    'min_samples_leaf': [1, 2]\n",
    "}\n",
    "\n",
    "# Create the GradientBoostingClassifier\n",
    "gbc = GradientBoostingClassifier()\n",
    "\n",
    "# Sample a subset of the training data\n",
    "x_train_sample, _, y_train_sample, _ = train_test_split(x_train, y_train, train_size=0.5, random_state=42)\n",
    "\n",
    "# Perform RandomizedSearchCV with fewer iterations and folds\n",
    "random_search_gbc = RandomizedSearchCV(\n",
    "    estimator=gbc, \n",
    "    param_distributions=param_distributions, \n",
    "    n_iter=50,  # Reduced from 100 to 50\n",
    "    cv=3,  # Reduced from 5 to 3\n",
    "    n_jobs=-1, \n",
    "    verbose=1, \n",
    "    random_state=42\n",
    ")\n",
    "\n",
    "# Fit the RandomizedSearchCV to the sampled training data\n",
    "random_search_gbc.fit(x_train_sample, y_train_sample)\n",
    "\n",
    "# Get the best parameters and best score\n",
    "best_params_gbc = random_search_gbc.best_params_\n",
    "best_score_gbc = random_search_gbc.best_score_\n",
    "print(\"Best parameters from RandomizedSearchCV: \", best_params_gbc)\n",
    "print(\"Best score from RandomizedSearchCV: \", best_score_gbc)\n",
    "\n",
    "# Assuming you have already defined and trained your best Gradient Boosting model\n",
    "best_gbc = random_search_gbc.best_estimator_\n",
    "\n",
    "# Make predictions on the training set\n",
    "y_tr = best_gbc.predict(x_train)\n",
    "train_accuracy_gbc = accuracy_score(y_tr, y_train)\n",
    "print(\"Training accuracy: \", train_accuracy_gbc)\n",
    "\n",
    "# Make predictions on the test set\n",
    "y_pred = best_gbc.predict(x_test)\n",
    "test_accuracy_gbc = accuracy_score(y_pred, y_test)\n",
    "print(\"Test accuracy: \", test_accuracy_gbc)\n",
    "\n",
    "\n",
    "print(\"Classification report:\\n\", classification_report(y_test, y_pred))\n",
    "\n",
    "\n",
    "# Calculate confusion matrix\n",
    "conf_matrix = confusion_matrix(y_test, y_pred)\n",
    "print(\"Confusion Matrix:\\n\", conf_matrix)\n",
    "\n",
    "\n",
    "# Calculate F1 score\n",
    "gbc_f1 = f1_score(y_test, y_pred)\n",
    "print(f\"Gradient Boosting F1 Score: {gbc_f1}\")\n",
    "gbc_f1_percentage = gbc_f1 * 100\n",
    "print(\"Gradient Boosting F1 Score (%):\", gbc_f1_percentage)\n",
    "\n",
    "\n"
   ]
  },
  {
   "cell_type": "code",
   "execution_count": 56,
   "id": "f3f93c4d-1b42-46a0-8d7a-427c0760574f",
   "metadata": {},
   "outputs": [
    {
     "name": "stdout",
     "output_type": "stream",
     "text": [
      "Fitting 3 folds for each of 50 candidates, totalling 150 fits\n"
     ]
    },
    {
     "name": "stderr",
     "output_type": "stream",
     "text": [
      "C:\\Users\\lenovo\\anaconda3\\Lib\\site-packages\\sklearn\\ensemble\\_forest.py:424: FutureWarning: `max_features='auto'` has been deprecated in 1.1 and will be removed in 1.3. To keep the past behaviour, explicitly set `max_features='sqrt'` or remove this parameter as it is also the default value for RandomForestClassifiers and ExtraTreesClassifiers.\n",
      "  warn(\n"
     ]
    },
    {
     "name": "stdout",
     "output_type": "stream",
     "text": [
      "Best parameters from RandomizedSearchCV:  {'n_estimators': 100, 'min_samples_split': 2, 'min_samples_leaf': 1, 'max_features': 'auto', 'max_depth': 20, 'criterion': 'gini'}\n",
      "Best score from RandomizedSearchCV:  0.8962715778209569\n",
      "Training accuracy:  1.0\n",
      "Test accuracy:  0.895\n",
      "Classification report:\n",
      "               precision    recall  f1-score   support\n",
      "\n",
      "           0       0.85      0.94      0.89        93\n",
      "           1       0.94      0.86      0.90       107\n",
      "\n",
      "    accuracy                           0.90       200\n",
      "   macro avg       0.90      0.90      0.89       200\n",
      "weighted avg       0.90      0.90      0.90       200\n",
      "\n",
      "Confusion Matrix:\n",
      " [[87  6]\n",
      " [15 92]]\n",
      "Random Forest F1 Score: 0.8975609756097561\n",
      "Random Forest F1 Score (%): 89.75609756097562\n"
     ]
    }
   ],
   "source": [
    "import numpy as np\n",
    "import pandas as pd\n",
    "from sklearn.model_selection import train_test_split, RandomizedSearchCV\n",
    "from sklearn.ensemble import RandomForestClassifier\n",
    "from sklearn.metrics import accuracy_score, classification_report, f1_score\n",
    "from sklearn.datasets import make_classification\n",
    "\n",
    "# Generate sample data\n",
    "x, y = make_classification(n_samples=1000, n_features=20, random_state=42)\n",
    "x_train, x_test, y_train, y_test = train_test_split(x, y, test_size=0.2, random_state=42)\n",
    "\n",
    "# Define a smaller parameter grid for RandomizedSearchCV\n",
    "param_distributions = {\n",
    "    'n_estimators': [50, 100],  # Reduced number of options\n",
    "    'criterion': ['gini', 'entropy'],\n",
    "    'max_features': ['auto', 'sqrt'],\n",
    "    'max_depth': [None, 10, 20],  # Reduced number of options\n",
    "    'min_samples_split': [2, 5],  # Reduced number of options\n",
    "    'min_samples_leaf': [1, 2]  # Reduced number of options\n",
    "}\n",
    "\n",
    "# Create the RandomForestClassifier\n",
    "rf = RandomForestClassifier()\n",
    "\n",
    "# Perform RandomizedSearchCV with fewer iterations and folds\n",
    "random_search = RandomizedSearchCV(\n",
    "    estimator=rf, \n",
    "    param_distributions=param_distributions, \n",
    "    n_iter=50,  # Reduced from 100 to 50\n",
    "    cv=3,  # Reduced from 5 to 3\n",
    "    n_jobs=-1, \n",
    "    verbose=1, \n",
    "    random_state=42\n",
    ")\n",
    "\n",
    "# Fit the RandomizedSearchCV to the training data\n",
    "random_search.fit(x_train, y_train)\n",
    "\n",
    "# Get the best parameters and best score\n",
    "best_params_rf = random_search.best_params_\n",
    "best_score_rf = random_search.best_score_\n",
    "print(\"Best parameters from RandomizedSearchCV: \", best_params_rf)\n",
    "print(\"Best score from RandomizedSearchCV: \", best_score_rf)\n",
    "\n",
    "# Assuming you have already defined and trained your best random forest model\n",
    "best_rf = random_search.best_estimator_\n",
    "\n",
    "# Make predictions on the training set\n",
    "y_tr = best_rf.predict(x_train)\n",
    "train_accuracy_rf = accuracy_score(y_tr, y_train)\n",
    "print(\"Training accuracy: \", train_accuracy_rf)\n",
    "\n",
    "# Make predictions on the test set\n",
    "y_pred = best_rf.predict(x_test)\n",
    "test_accuracy_rf = accuracy_score(y_pred, y_test)\n",
    "print(\"Test accuracy: \", test_accuracy_rf)\n",
    "\n",
    "\n",
    "print(\"Classification report:\\n\", classification_report(y_test, y_pred))\n",
    "\n",
    "\n",
    "# Calculate confusion matrix\n",
    "conf_matrix = confusion_matrix(y_test, y_pred)\n",
    "print(\"Confusion Matrix:\\n\", conf_matrix)  \n",
    "\n",
    "\n",
    "# Calculate F1 score\n",
    "rf_f1 = f1_score(y_test, y_pred)\n",
    "print(f\"Random Forest F1 Score: {rf_f1}\")\n",
    "rf_f1_percentage = rf_f1 * 100\n",
    "print(\"Random Forest F1 Score (%):\", rf_f1_percentage)\n",
    "\n"
   ]
  },
  {
   "cell_type": "markdown",
   "id": "6984381b-b8e1-4dba-8c5a-cf91a57d0c0e",
   "metadata": {},
   "source": [
    "#  Save The Model"
   ]
  },
  {
   "cell_type": "code",
   "execution_count": 57,
   "id": "4c04a27a-924f-4223-a4d2-ad3a090bc73e",
   "metadata": {},
   "outputs": [],
   "source": [
    "from flask import Flask, render_template, request\n",
    "import numpy as np\n",
    "import pickle"
   ]
  },
  {
   "cell_type": "code",
   "execution_count": 58,
   "id": "93822f26-b2dc-4404-898e-aaf1545aac2e",
   "metadata": {},
   "outputs": [
    {
     "data": {
      "text/html": [
       "<style>#sk-container-id-2 {color: black;background-color: white;}#sk-container-id-2 pre{padding: 0;}#sk-container-id-2 div.sk-toggleable {background-color: white;}#sk-container-id-2 label.sk-toggleable__label {cursor: pointer;display: block;width: 100%;margin-bottom: 0;padding: 0.3em;box-sizing: border-box;text-align: center;}#sk-container-id-2 label.sk-toggleable__label-arrow:before {content: \"▸\";float: left;margin-right: 0.25em;color: #696969;}#sk-container-id-2 label.sk-toggleable__label-arrow:hover:before {color: black;}#sk-container-id-2 div.sk-estimator:hover label.sk-toggleable__label-arrow:before {color: black;}#sk-container-id-2 div.sk-toggleable__content {max-height: 0;max-width: 0;overflow: hidden;text-align: left;background-color: #f0f8ff;}#sk-container-id-2 div.sk-toggleable__content pre {margin: 0.2em;color: black;border-radius: 0.25em;background-color: #f0f8ff;}#sk-container-id-2 input.sk-toggleable__control:checked~div.sk-toggleable__content {max-height: 200px;max-width: 100%;overflow: auto;}#sk-container-id-2 input.sk-toggleable__control:checked~label.sk-toggleable__label-arrow:before {content: \"▾\";}#sk-container-id-2 div.sk-estimator input.sk-toggleable__control:checked~label.sk-toggleable__label {background-color: #d4ebff;}#sk-container-id-2 div.sk-label input.sk-toggleable__control:checked~label.sk-toggleable__label {background-color: #d4ebff;}#sk-container-id-2 input.sk-hidden--visually {border: 0;clip: rect(1px 1px 1px 1px);clip: rect(1px, 1px, 1px, 1px);height: 1px;margin: -1px;overflow: hidden;padding: 0;position: absolute;width: 1px;}#sk-container-id-2 div.sk-estimator {font-family: monospace;background-color: #f0f8ff;border: 1px dotted black;border-radius: 0.25em;box-sizing: border-box;margin-bottom: 0.5em;}#sk-container-id-2 div.sk-estimator:hover {background-color: #d4ebff;}#sk-container-id-2 div.sk-parallel-item::after {content: \"\";width: 100%;border-bottom: 1px solid gray;flex-grow: 1;}#sk-container-id-2 div.sk-label:hover label.sk-toggleable__label {background-color: #d4ebff;}#sk-container-id-2 div.sk-serial::before {content: \"\";position: absolute;border-left: 1px solid gray;box-sizing: border-box;top: 0;bottom: 0;left: 50%;z-index: 0;}#sk-container-id-2 div.sk-serial {display: flex;flex-direction: column;align-items: center;background-color: white;padding-right: 0.2em;padding-left: 0.2em;position: relative;}#sk-container-id-2 div.sk-item {position: relative;z-index: 1;}#sk-container-id-2 div.sk-parallel {display: flex;align-items: stretch;justify-content: center;background-color: white;position: relative;}#sk-container-id-2 div.sk-item::before, #sk-container-id-2 div.sk-parallel-item::before {content: \"\";position: absolute;border-left: 1px solid gray;box-sizing: border-box;top: 0;bottom: 0;left: 50%;z-index: -1;}#sk-container-id-2 div.sk-parallel-item {display: flex;flex-direction: column;z-index: 1;position: relative;background-color: white;}#sk-container-id-2 div.sk-parallel-item:first-child::after {align-self: flex-end;width: 50%;}#sk-container-id-2 div.sk-parallel-item:last-child::after {align-self: flex-start;width: 50%;}#sk-container-id-2 div.sk-parallel-item:only-child::after {width: 0;}#sk-container-id-2 div.sk-dashed-wrapped {border: 1px dashed gray;margin: 0 0.4em 0.5em 0.4em;box-sizing: border-box;padding-bottom: 0.4em;background-color: white;}#sk-container-id-2 div.sk-label label {font-family: monospace;font-weight: bold;display: inline-block;line-height: 1.2em;}#sk-container-id-2 div.sk-label-container {text-align: center;}#sk-container-id-2 div.sk-container {/* jupyter's `normalize.less` sets `[hidden] { display: none; }` but bootstrap.min.css set `[hidden] { display: none !important; }` so we also need the `!important` here to be able to override the default hidden behavior on the sphinx rendered scikit-learn.org. See: https://github.com/scikit-learn/scikit-learn/issues/21755 */display: inline-block !important;position: relative;}#sk-container-id-2 div.sk-text-repr-fallback {display: none;}</style><div id=\"sk-container-id-2\" class=\"sk-top-container\"><div class=\"sk-text-repr-fallback\"><pre>RandomForestClassifier()</pre><b>In a Jupyter environment, please rerun this cell to show the HTML representation or trust the notebook. <br />On GitHub, the HTML representation is unable to render, please try loading this page with nbviewer.org.</b></div><div class=\"sk-container\" hidden><div class=\"sk-item\"><div class=\"sk-estimator sk-toggleable\"><input class=\"sk-toggleable__control sk-hidden--visually\" id=\"sk-estimator-id-3\" type=\"checkbox\" checked><label for=\"sk-estimator-id-3\" class=\"sk-toggleable__label sk-toggleable__label-arrow\">RandomForestClassifier</label><div class=\"sk-toggleable__content\"><pre>RandomForestClassifier()</pre></div></div></div></div></div>"
      ],
      "text/plain": [
       "RandomForestClassifier()"
      ]
     },
     "execution_count": 58,
     "metadata": {},
     "output_type": "execute_result"
    }
   ],
   "source": [
    "import pickle\n",
    "from sklearn.ensemble import RandomForestClassifier\n",
    "import numpy as np\n",
    "\n",
    "# Create dummy data\n",
    "X_dummy = np.random.rand(100, 4)  # 100 samples, 4 features each\n",
    "y_dummy = np.random.choice(['happy', 'sad', 'victorious', 'fight'], 100)  # 100 labels\n",
    "\n",
    "# Initialize and fit the model\n",
    "model = RandomForestClassifier()\n",
    "model.fit(X_dummy, y_dummy)"
   ]
  },
  {
   "cell_type": "code",
   "execution_count": 59,
   "id": "52862957-31e5-4545-9a6e-ac0b3dbd2e33",
   "metadata": {},
   "outputs": [],
   "source": [
    "from sklearn.ensemble import RandomForestClassifier\n",
    "import pickle\n",
    "\n",
    "# Assuming X_resampled and y_resampled are obtained from RandomOverSampler\n",
    "# Train your model\n",
    "model = RandomForestClassifier(random_state=42)\n",
    "model.fit(X_resampled, y_resampled)\n",
    "\n",
    "# Save the model\n",
    "model_path = 'C:/Users/lenovo/Desktop/Body_Language_Decoder/model/body_language.pkl'\n",
    "with open(model_path, 'wb') as f:\n",
    "    pickle.dump(model, f)\n"
   ]
  },
  {
   "cell_type": "markdown",
   "id": "1150f3fa-6c1c-4ef8-ab2e-c6d18f05054a",
   "metadata": {},
   "source": [
    "# Testing The Model"
   ]
  },
  {
   "cell_type": "code",
   "execution_count": 60,
   "id": "9055378b-60ae-4b7b-bd7e-dcabb403681f",
   "metadata": {},
   "outputs": [
    {
     "name": "stdout",
     "output_type": "stream",
     "text": [
      "RandomForestClassifier(random_state=42)\n"
     ]
    }
   ],
   "source": [
    "import pickle\n",
    "\n",
    "# Load the saved model\n",
    "with open('body_language.pkl', 'rb') as f:\n",
    "    model = pickle.load(f)\n",
    "\n",
    "# Verify the model has been loaded correctly\n",
    "print(model)\n"
   ]
  },
  {
   "cell_type": "code",
   "execution_count": 61,
   "id": "42f89444-a1ba-4127-b334-71572c41ec3e",
   "metadata": {},
   "outputs": [
    {
     "name": "stderr",
     "output_type": "stream",
     "text": [
      "C:\\Users\\lenovo\\anaconda3\\Lib\\site-packages\\google\\protobuf\\symbol_database.py:55: UserWarning: SymbolDatabase.GetPrototype() is deprecated. Please use message_factory.GetMessageClass() instead. SymbolDatabase.GetPrototype() will be removed soon.\n",
      "  warnings.warn('SymbolDatabase.GetPrototype() is deprecated. Please '\n",
      "C:\\Users\\lenovo\\anaconda3\\Lib\\site-packages\\google\\protobuf\\symbol_database.py:55: UserWarning: SymbolDatabase.GetPrototype() is deprecated. Please use message_factory.GetMessageClass() instead. SymbolDatabase.GetPrototype() will be removed soon.\n",
      "  warnings.warn('SymbolDatabase.GetPrototype() is deprecated. Please '\n",
      "C:\\Users\\lenovo\\anaconda3\\Lib\\site-packages\\google\\protobuf\\symbol_database.py:55: UserWarning: SymbolDatabase.GetPrototype() is deprecated. Please use message_factory.GetMessageClass() instead. SymbolDatabase.GetPrototype() will be removed soon.\n",
      "  warnings.warn('SymbolDatabase.GetPrototype() is deprecated. Please '\n",
      "C:\\Users\\lenovo\\anaconda3\\Lib\\site-packages\\google\\protobuf\\symbol_database.py:55: UserWarning: SymbolDatabase.GetPrototype() is deprecated. Please use message_factory.GetMessageClass() instead. SymbolDatabase.GetPrototype() will be removed soon.\n",
      "  warnings.warn('SymbolDatabase.GetPrototype() is deprecated. Please '\n",
      "C:\\Users\\lenovo\\anaconda3\\Lib\\site-packages\\google\\protobuf\\symbol_database.py:55: UserWarning: SymbolDatabase.GetPrototype() is deprecated. Please use message_factory.GetMessageClass() instead. SymbolDatabase.GetPrototype() will be removed soon.\n",
      "  warnings.warn('SymbolDatabase.GetPrototype() is deprecated. Please '\n",
      "C:\\Users\\lenovo\\anaconda3\\Lib\\site-packages\\google\\protobuf\\symbol_database.py:55: UserWarning: SymbolDatabase.GetPrototype() is deprecated. Please use message_factory.GetMessageClass() instead. SymbolDatabase.GetPrototype() will be removed soon.\n",
      "  warnings.warn('SymbolDatabase.GetPrototype() is deprecated. Please '\n",
      "C:\\Users\\lenovo\\anaconda3\\Lib\\site-packages\\google\\protobuf\\symbol_database.py:55: UserWarning: SymbolDatabase.GetPrototype() is deprecated. Please use message_factory.GetMessageClass() instead. SymbolDatabase.GetPrototype() will be removed soon.\n",
      "  warnings.warn('SymbolDatabase.GetPrototype() is deprecated. Please '\n",
      "C:\\Users\\lenovo\\anaconda3\\Lib\\site-packages\\google\\protobuf\\symbol_database.py:55: UserWarning: SymbolDatabase.GetPrototype() is deprecated. Please use message_factory.GetMessageClass() instead. SymbolDatabase.GetPrototype() will be removed soon.\n",
      "  warnings.warn('SymbolDatabase.GetPrototype() is deprecated. Please '\n",
      "C:\\Users\\lenovo\\anaconda3\\Lib\\site-packages\\google\\protobuf\\symbol_database.py:55: UserWarning: SymbolDatabase.GetPrototype() is deprecated. Please use message_factory.GetMessageClass() instead. SymbolDatabase.GetPrototype() will be removed soon.\n",
      "  warnings.warn('SymbolDatabase.GetPrototype() is deprecated. Please '\n",
      "C:\\Users\\lenovo\\anaconda3\\Lib\\site-packages\\google\\protobuf\\symbol_database.py:55: UserWarning: SymbolDatabase.GetPrototype() is deprecated. Please use message_factory.GetMessageClass() instead. SymbolDatabase.GetPrototype() will be removed soon.\n",
      "  warnings.warn('SymbolDatabase.GetPrototype() is deprecated. Please '\n",
      "C:\\Users\\lenovo\\anaconda3\\Lib\\site-packages\\google\\protobuf\\symbol_database.py:55: UserWarning: SymbolDatabase.GetPrototype() is deprecated. Please use message_factory.GetMessageClass() instead. SymbolDatabase.GetPrototype() will be removed soon.\n",
      "  warnings.warn('SymbolDatabase.GetPrototype() is deprecated. Please '\n",
      "C:\\Users\\lenovo\\anaconda3\\Lib\\site-packages\\google\\protobuf\\symbol_database.py:55: UserWarning: SymbolDatabase.GetPrototype() is deprecated. Please use message_factory.GetMessageClass() instead. SymbolDatabase.GetPrototype() will be removed soon.\n",
      "  warnings.warn('SymbolDatabase.GetPrototype() is deprecated. Please '\n",
      "C:\\Users\\lenovo\\anaconda3\\Lib\\site-packages\\google\\protobuf\\symbol_database.py:55: UserWarning: SymbolDatabase.GetPrototype() is deprecated. Please use message_factory.GetMessageClass() instead. SymbolDatabase.GetPrototype() will be removed soon.\n",
      "  warnings.warn('SymbolDatabase.GetPrototype() is deprecated. Please '\n",
      "C:\\Users\\lenovo\\anaconda3\\Lib\\site-packages\\google\\protobuf\\symbol_database.py:55: UserWarning: SymbolDatabase.GetPrototype() is deprecated. Please use message_factory.GetMessageClass() instead. SymbolDatabase.GetPrototype() will be removed soon.\n",
      "  warnings.warn('SymbolDatabase.GetPrototype() is deprecated. Please '\n",
      "C:\\Users\\lenovo\\anaconda3\\Lib\\site-packages\\google\\protobuf\\symbol_database.py:55: UserWarning: SymbolDatabase.GetPrototype() is deprecated. Please use message_factory.GetMessageClass() instead. SymbolDatabase.GetPrototype() will be removed soon.\n",
      "  warnings.warn('SymbolDatabase.GetPrototype() is deprecated. Please '\n"
     ]
    }
   ],
   "source": [
    "cap = cv2.VideoCapture(0)\n",
    "# Initiate holistic model\n",
    "with mp_holistic.Holistic(min_detection_confidence=0.5, min_tracking_confidence=0.5) as holistic:\n",
    "\n",
    "    while cap.isOpened():\n",
    "        ret, frame = cap.read()\n",
    "        # Recolor Feed\n",
    "        image = cv2.cvtColor(frame, cv2.COLOR_BGR2RGB)\n",
    "        image.flags.writeable = False\n",
    "        # Make Detections\n",
    "        results = holistic.process(image)\n",
    "        # print(results.face_landmarks)\n",
    "        # face_landmarks, pose_landmarks, left_hand_landmarks, right_hand_landmarks\n",
    "        # Recolor image back to BGR for rendering\n",
    "        image.flags.writeable = True\n",
    "        image = cv2.cvtColor(image, cv2.COLOR_RGB2BGR)\n",
    "\n",
    "        # 1. Draw face landmarks\n",
    "        mp_drawing.draw_landmarks(image, results.face_landmarks, mp_holistic.FACEMESH_CONTOURS, \n",
    "                                 mp_drawing.DrawingSpec(color=(80,110,10), thickness=1, circle_radius=1),\n",
    "                                 mp_drawing.DrawingSpec(color=(80,256,121), thickness=1, circle_radius=1)\n",
    "                                 )\n",
    "        # 2. Right hand\n",
    "        mp_drawing.draw_landmarks(image, results.right_hand_landmarks, mp_holistic.HAND_CONNECTIONS, \n",
    "                                 mp_drawing.DrawingSpec(color=(80,22,10), thickness=2, circle_radius=4),\n",
    "                                 mp_drawing.DrawingSpec(color=(80,44,121), thickness=2, circle_radius=2)\n",
    "                                 )\n",
    "        # 3. Left Hand\n",
    "        mp_drawing.draw_landmarks(image, results.left_hand_landmarks, mp_holistic.HAND_CONNECTIONS, \n",
    "                                 mp_drawing.DrawingSpec(color=(121,22,76), thickness=2, circle_radius=4),\n",
    "                                 mp_drawing.DrawingSpec(color=(121,44,250), thickness=2, circle_radius=2)\n",
    "                                 )\n",
    "        # 4. Pose Detections\n",
    "        mp_drawing.draw_landmarks(image, results.pose_landmarks, mp_holistic.POSE_CONNECTIONS, \n",
    "                                 mp_drawing.DrawingSpec(color=(245,117,66), thickness=2, circle_radius=4),\n",
    "                                 mp_drawing.DrawingSpec(color=(245,66,230), thickness=2, circle_radius=2)\n",
    "                                 )\n",
    "\n",
    "        # Export coordinates\n",
    "        try:\n",
    "            pose = results.pose_landmarks.landmark # Extract Pose landmarks\n",
    "            pose_row = list(np.array([[landmark.x, landmark.y, landmark.z, landmark.visibility] for landmark in pose]).flatten())\n",
    "            \n",
    "            face = results.face_landmarks.landmark # Extract Face landmarks\n",
    "            face_row = list(np.array([[landmark.x, landmark.y, landmark.z, landmark.visibility] for landmark in face]).flatten())\n",
    "            \n",
    "            # Concate rows\n",
    "            row = pose_row+face_row\n",
    "            \n",
    "            # Make Detections\n",
    "            X = pd.DataFrame([row])\n",
    "            body_language_class = model.predict(X)[0]\n",
    "            body_language_prob = model.predict_proba(X)[0]\n",
    "            print(body_language_class, body_language_prob)\n",
    "            \n",
    "            # Grab ear coords\n",
    "            coords = tuple(np.multiply(\n",
    "                            np.array(\n",
    "                                (results.pose_landmarks.landmark[mp_holistic.PoseLandmark.LEFT_EAR].x, \n",
    "                                 results.pose_landmarks.landmark[mp_holistic.PoseLandmark.LEFT_EAR].y))\n",
    "                        , [640,480]).astype(int))\n",
    "            \n",
    "            cv2.rectangle(image, \n",
    "                          (coords[0], coords[1]+5), \n",
    "                          (coords[0]+len(body_language_class)*20, coords[1]-30), \n",
    "                          (245, 117, 16), -1)\n",
    "            cv2.putText(image, body_language_class, coords, \n",
    "                        cv2.FONT_HERSHEY_SIMPLEX, 1, (255, 255, 255), 2, cv2.LINE_AA)\n",
    "            \n",
    "            # Get status box\n",
    "            cv2.rectangle(image, (0,0), (250, 60), (245, 117, 16), -1)\n",
    "            \n",
    "            # Display Class\n",
    "            cv2.putText(image, 'CLASS'\n",
    "                        , (95,12), cv2.FONT_HERSHEY_SIMPLEX, 0.5, (0,0,0), 1, cv2.LINE_AA)\n",
    "            cv2.putText(image, body_language_class.split(' ')[0]\n",
    "                        , (90,40), cv2.FONT_HERSHEY_SIMPLEX, 1, (255,255,255), 2, cv2.LINE_AA)\n",
    "            \n",
    "            # Display Probability\n",
    "            cv2.putText(image, 'PROB'\n",
    "                        , (95,60), cv2.FONT_HERSHEY_SIMPLEX, 0.5, (0,0,0), 1, cv2.LINE_AA)\n",
    "            cv2.putText(image, str(round(body_language_prob[np.argmax(body_language_prob)],2))\n",
    "                        , (90,80), cv2.FONT_HERSHEY_SIMPLEX, 1, (255,255,255), 2, cv2.LINE_AA)\n",
    "        except:\n",
    "            pass\n",
    "        \n",
    "        cv2.imshow('OpenCV Feed', image)\n",
    "\n",
    "        if cv2.waitKey(10) & 0xFF == ord('q'):\n",
    "            break\n",
    "\n",
    "    cap.release()\n",
    "    cv2.destroyAllWindows()"
   ]
  },
  {
   "cell_type": "markdown",
   "id": "d292fc9c-7542-4214-9f20-beaf9c8a8fa4",
   "metadata": {},
   "source": [
    "# Integrate With Web Framework\n",
    "# Create A Web.Py File And Import Necessary Packages\n"
   ]
  },
  {
   "cell_type": "code",
   "execution_count": 62,
   "id": "8b64916d-e654-4270-8702-7f3dcfae15f5",
   "metadata": {},
   "outputs": [],
   "source": [
    "import streamlit as st\n",
    "import pandas as pd\n",
    "import tensorflow as tf\n",
    "import mediapipe as mp\n",
    "import cv2\n",
    "import numpy as np\n",
    "import pickle\n",
    "import csv\n",
    "import os\n"
   ]
  },
  {
   "cell_type": "markdown",
   "id": "2eb27040-80b8-4a4e-bd6b-90be1f8f9b76",
   "metadata": {},
   "source": [
    "# Loading The Model And Creating A Frame Window To Use OpenCV"
   ]
  },
  {
   "cell_type": "code",
   "execution_count": 63,
   "id": "f10fb062-acb7-4705-bea7-d5c1524c757f",
   "metadata": {},
   "outputs": [
    {
     "name": "stderr",
     "output_type": "stream",
     "text": [
      "2024-07-13 09:16:52.619 \n",
      "  \u001b[33m\u001b[1mWarning:\u001b[0m to view this Streamlit app on a browser, run it with the following\n",
      "  command:\n",
      "\n",
      "    streamlit run C:\\Users\\lenovo\\anaconda3\\Lib\\site-packages\\ipykernel_launcher.py [ARGUMENTS]\n",
      "2024-07-13 09:16:52.619 \n",
      "`st.cache` is deprecated and will be removed soon. Please use one of Streamlit's new caching commands, `st.cache_data` or `st.cache_resource`.\n",
      "More information [in our docs](https://docs.streamlit.io/develop/concepts/architecture/caching).\n",
      "\n",
      "**Note**: The behavior of `st.cache` was updated in Streamlit 1.36 to the new caching logic used by `st.cache_data` and `st.cache_resource`.\n",
      "This might lead to some problems or unexpected behavior in certain edge cases.\n",
      "\n"
     ]
    }
   ],
   "source": [
    "st.cache(allow_output_mutation=True)\n",
    "\n",
    "with open('body_language.pkl', 'rb') as f:\n",
    "    model = pickle.load(f)\n",
    "\n",
    "st.write(\"\"\"# Body Language Detection\"\"\")\n",
    "mp_drawing = mp.solutions.drawing_utils # Drawing Helpers\n",
    "mp_holistic = mp.solutions.holistic # Mediapipe Solutions\n",
    "run = st.checkbox('Run')\n",
    "FRAME_WINDOW = st.image([])\n",
    "camera = cv2.VideoCapture(0)\n"
   ]
  },
  {
   "cell_type": "markdown",
   "id": "415c15c2-b99f-434a-a0ea-d87d8c9f66dd",
   "metadata": {},
   "source": [
    "# Accepting The Input From User And Prediction"
   ]
  },
  {
   "cell_type": "code",
   "execution_count": 64,
   "id": "c8cff0a8-55dc-45ce-873c-5cbaa7aa355e",
   "metadata": {},
   "outputs": [],
   "source": [
    "while run:\n",
    "    with mp_holistic.Holistic(min_detection_confidence=0.5, min_tracking_confidence=0.5) as holistic:\n",
    "        while camera.isOpened():\n",
    "            ret, frame = camera.read()\n",
    "            \n",
    "            # Recolor Feed\n",
    "            image = cv2.cvtColor(frame, cv2.COLOR_BGR2RGB)\n",
    "            image.flags.writeable = False\n",
    "            \n",
    "            # Make Detections\n",
    "            results = holistic.process(image)\n",
    "            \n",
    "            # face_landmarks, pose_landmarks, left_hand_landmarks, right_hand_landmarks\n",
    "            # Recolor image back to BGR for rendering\n",
    "            image.flags.writeable = True\n",
    "            image = cv2.cvtColor(image, cv2.COLOR_RGB2BGR)\n",
    "            \n",
    "            # 1. Face landmarks\n",
    "            mp_drawing.draw_landmarks(image, results.face_landmarks, mp_holistic.FACEMESH_CONTOURS,\n",
    "                                     mp_drawing.DrawingSpec(color=(80,110,10), thickness=1, circle_radius=1),\n",
    "                                     mp_drawing.DrawingSpec(color=(80,256,121), thickness=1, circle_radius=1)\n",
    "                                     )\n",
    "            \n",
    "            # 2. Right Hand\n",
    "            mp_drawing.draw_landmarks(image, results.right_hand_landmarks, mp_holistic.HAND_CONNECTIONS,\n",
    "                                     mp_drawing.DrawingSpec(color=(80,22,10), thickness=2, circle_radius=4),\n",
    "                                     mp_drawing.DrawingSpec(color=(80,44,121), thickness=2, circle_radius=2)\n",
    "                                     )\n",
    "            \n",
    "            # 3. Left Hand\n",
    "            mp_drawing.draw_landmarks(image, results.left_hand_landmarks, mp_holistic.HAND_CONNECTIONS,\n",
    "                                     mp_drawing.DrawingSpec(color=(121,22,76), thickness=2, circle_radius=4),\n",
    "                                     mp_drawing.DrawingSpec(color=(121,44,250), thickness=2, circle_radius=2)\n",
    "                                     )\n",
    "            \n",
    "            # 4. Pose Detections\n",
    "            mp_drawing.draw_landmarks(image, results.pose_landmarks, mp_holistic.POSE_CONNECTIONS,\n",
    "                                     mp_drawing.DrawingSpec(color=(245,117,66), thickness=2, circle_radius=4),\n",
    "                                     mp_drawing.DrawingSpec(color=(245,66,230), thickness=2, circle_radius=2)\n",
    "                                     )\n",
    "            \n",
    "            # Export coordinates\n",
    "            try:\n",
    "                pose = results.pose_landmarks.landmark # Extract Pose landmarks\n",
    "                pose_row = list(np.array([[landmark.x, landmark.y, landmark.z, landmark.visibility] for landmark in pose]).flatten())\n",
    "                \n",
    "                face = results.face_landmarks.landmark # Extract Face landmarks\n",
    "                face_row = list(np.array([[landmark.x, landmark.y, landmark.z, landmark.visibility] for landmark in face]).flatten())\n",
    "                \n",
    "                # Concate rows\n",
    "                row = pose_row+face_row\n",
    "                \n",
    "                # Make Detections\n",
    "                X = pd.DataFrame([row])\n",
    "                body_language_class = model.predict(X)[0]\n",
    "                body_language_prob = model.predict_proba(X)[0]\n",
    "                print(body_language_class, body_language_prob)\n",
    "                \n",
    "                # Grab ear coords\n",
    "                coords = tuple(np.multiply(\n",
    "                                    np.array(\n",
    "                                        (results.pose_landmarks.landmark[mp_holistic.PoseLandmark.LEFT_EAR].x, \n",
    "                                         results.pose_landmarks.landmark[mp_holistic.PoseLandmark.LEFT_EAR].y))\n",
    "                                , [640,480]).astype(int))\n",
    "                \n",
    "                cv2.rectangle(image, \n",
    "                              (coords[0], coords[1]+5), \n",
    "                              (coords[0]+len(body_language_class)*20, coords[1]-30), \n",
    "                              (245, 117, 16), -1)\n",
    "                cv2.putText(image, body_language_class, coords, \n",
    "                            cv2.FONT_HERSHEY_SIMPLEX, 1, (255, 255, 255), 2, cv2.LINE_AA)\n",
    "                \n",
    "                # Get status box\n",
    "                cv2.rectangle(image, (0,0), (250, 60), (245, 117, 16), -1)\n",
    "                \n",
    "                # Display Class\n",
    "                cv2.putText(image, 'CLASS'\n",
    "                            , (95,12), cv2.FONT_HERSHEY_SIMPLEX, 0.5, (0,0,0), 1, cv2.LINE_AA)\n",
    "                cv2.putText(image, body_language_class.split(' ')[0]\n",
    "                            , (90,40), cv2.FONT_HERSHEY_SIMPLEX, 1, (255,255,255), 2, cv2.LINE_AA)\n",
    "                \n",
    "                # Display Probability\n",
    "                cv2.putText(image, 'PROB'\n",
    "                            , (15,12), cv2.FONT_HERSHEY_SIMPLEX, 0.5, (0,0,0), 1, cv2.LINE_AA)\n",
    "                cv2.putText(image, str(round(body_language_prob[np.argmax(body_language_prob)],2))\n",
    "                            , (10,40), cv2.FONT_HERSHEY_SIMPLEX, 1, (255,255,255), 2, cv2.LINE_AA)\n",
    "                \n",
    "            except:\n",
    "                pass\n",
    "            \n",
    "            FRAME_WINDOW.image(image)\n",
    "            if cv2.waitKey(10) & 0xFF == ord('q'):\n",
    "                break\n",
    "        \n",
    "        camera.release()\n",
    "        cv2.destroyAllWindows()\n",
    "else:\n",
    "    st.write('Stopped')\n"
   ]
  },
  {
   "cell_type": "code",
   "execution_count": null,
   "id": "c2567a4b-3a5d-4210-8abb-c2666b903caa",
   "metadata": {},
   "outputs": [],
   "source": []
  }
 ],
 "metadata": {
  "kernelspec": {
   "display_name": "Python 3 (ipykernel)",
   "language": "python",
   "name": "python3"
  },
  "language_info": {
   "codemirror_mode": {
    "name": "ipython",
    "version": 3
   },
   "file_extension": ".py",
   "mimetype": "text/x-python",
   "name": "python",
   "nbconvert_exporter": "python",
   "pygments_lexer": "ipython3",
   "version": "3.11.7"
  }
 },
 "nbformat": 4,
 "nbformat_minor": 5
}
